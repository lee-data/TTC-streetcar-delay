{
 "cells": [
  {
   "cell_type": "markdown",
   "metadata": {},
   "source": [
    "<center> \n",
    "\n",
    "# **CASE STUDY: TTC STREETCAR DELAY - A DATA SCIENCE APPROACH**\n",
    "\n",
    "***TABLE OF CONTENT:***\n",
    "\n",
    "</center>\n",
    "\n",
    "\n",
    "*I - DATA COLLECTION & ELT* (by Jay Menorca)\n",
    "\n",
    "- Github setup\n",
    "\n",
    "- Data Collection\n",
    "\n",
    "- Data Cleaning & Feature Engineering \n",
    "\n",
    "*II - DATA PRE-PROCESSING & FEATURE ENGINEERING* (by Ly Nguyen)\n",
    "\n",
    "*III - PREDICTIVE MODELLING* (by Ly Nguyen) \n",
    "\n",
    "- **Random Forest Classifier - Initial Model:**  \n",
    "\n",
    "    *- Setting training and test sets*\n",
    "\n",
    "    *- Hyperparameter Tuning*\n",
    "\n",
    "    *- Fit the Random Forest Classification model* \n",
    "\n",
    "    *- Model Evaluation*\n",
    "\n",
    "- **Random Forest Classifier - Dimensionality Reduction - Second Model:**  \n",
    "\n",
    "    *- Setting training and test sets*\n",
    "\n",
    "    *- Hyperparameter Tuning*\n",
    "\n",
    "    *- Fit the Random Forest Classification model* \n",
    "\n",
    "    *- Model Evaluation*\n",
    "    \n",
    "*IV - DESCRIPTIVE STATISTICS* (by XiaoXiao, Ly Nguyen)\n",
    " \n",
    "*V - APP DEPLOYMENT* (by Ly Nguyen)\n",
    "\n",
    "*VI - DATA VISUALIZATION - TABLEAU* (by Shruti Patil, Namreen Syed)\n",
    "\n",
    "\n",
    "\n"
   ]
  }
 ],
 "metadata": {
  "language_info": {
   "name": "python"
  }
 },
 "nbformat": 4,
 "nbformat_minor": 2
}
