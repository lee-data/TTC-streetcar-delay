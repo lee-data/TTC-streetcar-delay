{
 "cells": [
  {
   "cell_type": "code",
   "execution_count": 1,
   "metadata": {},
   "outputs": [
    {
     "name": "stderr",
     "output_type": "stream",
     "text": [
      "IProgress not found. Please update jupyter and ipywidgets. See https://ipywidgets.readthedocs.io/en/stable/user_install.html\n"
     ]
    }
   ],
   "source": [
    "import os\n",
    "import sqlite3\n",
    "import pandas as pd\n",
    "import numpy as np\n",
    "from sklearn.model_selection import train_test_split\n",
    "from sklearn.preprocessing import RobustScaler \n",
    "from sklearn.preprocessing import OneHotEncoder \n",
    "from sklearn.impute import SimpleImputer\n",
    "from sklearn.pipeline import Pipeline\n",
    "from sklearn.compose import ColumnTransformer\n",
    "from sklearn.model_selection import RandomizedSearchCV\n",
    "from sklearn.model_selection import GridSearchCV\n",
    "from sklearn.ensemble import RandomForestClassifier\n",
    "from sklearn.model_selection import cross_val_score\n",
    "from sklearn.metrics import accuracy_score, precision_score, recall_score, f1_score\n",
    "from sklearn.metrics import classification_report\n",
    "import matplotlib.pyplot as plt\n",
    "import seaborn as sns\n",
    "import statsmodels.api as sm\n",
    "import shap\n",
    "\n",
    "\n",
    "\n",
    "\n"
   ]
  },
  {
   "cell_type": "code",
   "execution_count": 2,
   "metadata": {},
   "outputs": [],
   "source": [
    "# Function to load data from SQLite database\n",
    "def load_from_db(db_name, table_name):\n",
    "    conn = sqlite3.connect(db_name)\n",
    "    query = f'SELECT * FROM {table_name}'\n",
    "    df = pd.read_sql(query, conn)\n",
    "    conn.close()\n",
    "\n",
    "    return df"
   ]
  },
  {
   "cell_type": "code",
   "execution_count": 3,
   "metadata": {},
   "outputs": [
    {
     "name": "stdout",
     "output_type": "stream",
     "text": [
      "Database path: C:\\Users\\DELL\\OneDrive\\Desktop\\SCHOOL\\team24_ly\\team24_ly\\data\\streetcardelaydb.db\n"
     ]
    }
   ],
   "source": [
    "# Set working directory to the notebook's directory\n",
    "os.chdir(r\"C:\\Users\\DELL\\OneDrive\\Desktop\\SCHOOL\\team24_ly\\team24_ly\")\n",
    "\n",
    "# Now define your base directory relative to this location\n",
    "base_dir = os.path.abspath(os.path.join(os.getcwd(), 'data'))\n",
    "db_name = os.path.join(base_dir, 'streetcardelaydb.db')\n",
    "\n",
    "print(f\"Database path: {db_name}\")\n",
    "\n",
    "# Check if the database file exists\n",
    "if not os.path.exists(db_name):\n",
    "    raise FileNotFoundError(f\"Database file not found: {db_name}\")\n",
    "\n",
    "# Load data\n",
    "table_name = 'Streetcar_Delay_Data'\n",
    "df = load_from_db(db_name, table_name)\n"
   ]
  },
  {
   "cell_type": "code",
   "execution_count": 4,
   "metadata": {},
   "outputs": [
    {
     "data": {
      "text/html": [
       "<div>\n",
       "<style scoped>\n",
       "    .dataframe tbody tr th:only-of-type {\n",
       "        vertical-align: middle;\n",
       "    }\n",
       "\n",
       "    .dataframe tbody tr th {\n",
       "        vertical-align: top;\n",
       "    }\n",
       "\n",
       "    .dataframe thead th {\n",
       "        text-align: right;\n",
       "    }\n",
       "</style>\n",
       "<table border=\"1\" class=\"dataframe\">\n",
       "  <thead>\n",
       "    <tr style=\"text-align: right;\">\n",
       "      <th></th>\n",
       "      <th>incident_date</th>\n",
       "      <th>line</th>\n",
       "      <th>incident_time</th>\n",
       "      <th>day_of_week</th>\n",
       "      <th>location</th>\n",
       "      <th>incident</th>\n",
       "      <th>min_delay</th>\n",
       "      <th>min_gap</th>\n",
       "      <th>bound</th>\n",
       "      <th>vehicle</th>\n",
       "      <th>holidayType</th>\n",
       "      <th>isWeekend</th>\n",
       "      <th>seasonType</th>\n",
       "      <th>lineId</th>\n",
       "      <th>lineName</th>\n",
       "      <th>delayType</th>\n",
       "    </tr>\n",
       "  </thead>\n",
       "  <tbody>\n",
       "    <tr>\n",
       "      <th>0</th>\n",
       "      <td>2023-01-01</td>\n",
       "      <td>505</td>\n",
       "      <td>02:40</td>\n",
       "      <td>Sunday</td>\n",
       "      <td>BROADVIEW AND GERRARD</td>\n",
       "      <td>Held By</td>\n",
       "      <td>15</td>\n",
       "      <td>25</td>\n",
       "      <td>W</td>\n",
       "      <td>4460</td>\n",
       "      <td>New Year's Day</td>\n",
       "      <td>yes</td>\n",
       "      <td>Winter 2023</td>\n",
       "      <td>505</td>\n",
       "      <td>Dundas</td>\n",
       "      <td>2</td>\n",
       "    </tr>\n",
       "    <tr>\n",
       "      <th>1</th>\n",
       "      <td>2023-01-01</td>\n",
       "      <td>504</td>\n",
       "      <td>02:52</td>\n",
       "      <td>Sunday</td>\n",
       "      <td>KING AND BATHURST</td>\n",
       "      <td>Cleaning - Unsanitary</td>\n",
       "      <td>10</td>\n",
       "      <td>20</td>\n",
       "      <td>W</td>\n",
       "      <td>4427</td>\n",
       "      <td>New Year's Day</td>\n",
       "      <td>yes</td>\n",
       "      <td>Winter 2023</td>\n",
       "      <td>504</td>\n",
       "      <td>King</td>\n",
       "      <td>2</td>\n",
       "    </tr>\n",
       "    <tr>\n",
       "      <th>2</th>\n",
       "      <td>2023-01-01</td>\n",
       "      <td>504</td>\n",
       "      <td>02:59</td>\n",
       "      <td>Sunday</td>\n",
       "      <td>KING AND BATHURST</td>\n",
       "      <td>Held By</td>\n",
       "      <td>25</td>\n",
       "      <td>35</td>\n",
       "      <td>E</td>\n",
       "      <td>4560</td>\n",
       "      <td>New Year's Day</td>\n",
       "      <td>yes</td>\n",
       "      <td>Winter 2023</td>\n",
       "      <td>504</td>\n",
       "      <td>King</td>\n",
       "      <td>3</td>\n",
       "    </tr>\n",
       "    <tr>\n",
       "      <th>3</th>\n",
       "      <td>2023-01-01</td>\n",
       "      <td>510</td>\n",
       "      <td>05:38</td>\n",
       "      <td>Sunday</td>\n",
       "      <td>SPADINA AND DUNDAS</td>\n",
       "      <td>Security</td>\n",
       "      <td>15</td>\n",
       "      <td>30</td>\n",
       "      <td>S</td>\n",
       "      <td>4449</td>\n",
       "      <td>New Year's Day</td>\n",
       "      <td>yes</td>\n",
       "      <td>Winter 2023</td>\n",
       "      <td>510</td>\n",
       "      <td>Spadina</td>\n",
       "      <td>2</td>\n",
       "    </tr>\n",
       "    <tr>\n",
       "      <th>4</th>\n",
       "      <td>2023-01-01</td>\n",
       "      <td>506</td>\n",
       "      <td>06:35</td>\n",
       "      <td>Sunday</td>\n",
       "      <td>OSSINGTON STATION</td>\n",
       "      <td>Security</td>\n",
       "      <td>10</td>\n",
       "      <td>20</td>\n",
       "      <td>None</td>\n",
       "      <td>8706</td>\n",
       "      <td>New Year's Day</td>\n",
       "      <td>yes</td>\n",
       "      <td>Winter 2023</td>\n",
       "      <td>506</td>\n",
       "      <td>Carlton</td>\n",
       "      <td>2</td>\n",
       "    </tr>\n",
       "  </tbody>\n",
       "</table>\n",
       "</div>"
      ],
      "text/plain": [
       "  incident_date line incident_time day_of_week               location  \\\n",
       "0    2023-01-01  505         02:40      Sunday  BROADVIEW AND GERRARD   \n",
       "1    2023-01-01  504         02:52      Sunday      KING AND BATHURST   \n",
       "2    2023-01-01  504         02:59      Sunday      KING AND BATHURST   \n",
       "3    2023-01-01  510         05:38      Sunday     SPADINA AND DUNDAS   \n",
       "4    2023-01-01  506         06:35      Sunday      OSSINGTON STATION   \n",
       "\n",
       "                incident  min_delay  min_gap bound vehicle     holidayType  \\\n",
       "0                Held By         15       25     W    4460  New Year's Day   \n",
       "1  Cleaning - Unsanitary         10       20     W    4427  New Year's Day   \n",
       "2                Held By         25       35     E    4560  New Year's Day   \n",
       "3               Security         15       30     S    4449  New Year's Day   \n",
       "4               Security         10       20  None    8706  New Year's Day   \n",
       "\n",
       "  isWeekend   seasonType lineId lineName  delayType  \n",
       "0       yes  Winter 2023    505   Dundas          2  \n",
       "1       yes  Winter 2023    504     King          2  \n",
       "2       yes  Winter 2023    504     King          3  \n",
       "3       yes  Winter 2023    510  Spadina          2  \n",
       "4       yes  Winter 2023    506  Carlton          2  "
      ]
     },
     "execution_count": 4,
     "metadata": {},
     "output_type": "execute_result"
    }
   ],
   "source": [
    "import pandas as pd\n",
    "\n",
    "# Convert incident_date to datetime format\n",
    "df['incident_date'] = pd.to_datetime(df['incident_date'])\n",
    "\n",
    "# Load Date table to get holidayType and isWeekend columns\n",
    "date_table_name = 'Date'  \n",
    "date_df = load_from_db(db_name, date_table_name)\n",
    "date_df['date'] = pd.to_datetime(date_df['date'])\n",
    "\n",
    "# Merge Date table with Streetcar_Delay_Data table on incident_date\n",
    "df = df.merge(date_df[['date', 'holidayType', 'isWeekend']], left_on='incident_date', right_on='date', how='left')\n",
    "df.drop(columns=['date'], inplace=True)\n",
    "\n",
    "# Load Season table to get seasonType column\n",
    "season_table_name = 'Season'  \n",
    "season_df = load_from_db(db_name, season_table_name)\n",
    "season_df['date'] = pd.to_datetime(season_df['date'])\n",
    "\n",
    "# Merge Season table with Streetcar_Delay_Data table on incident_date\n",
    "df = df.merge(season_df[['date', 'season']], left_on='incident_date', right_on='date', how='left')\n",
    "df.rename(columns={'season': 'seasonType'}, inplace=True)  \n",
    "df.drop(columns=['date'], inplace=True)\n",
    "\n",
    "# Load Line table to get lineId and lineName (no lineType)\n",
    "line_table_name = 'Line'  \n",
    "line_df = load_from_db(db_name, line_table_name)\n",
    "\n",
    "# Merge the dataframes on lineId\n",
    "df = df.merge(line_df[['lineId', 'lineName']], left_on='line', right_on='lineId', how='left')\n",
    "\n",
    "# Load Delay table to get delayType\n",
    "delay_table_name = 'Delay'  \n",
    "delay_df = load_from_db(db_name, delay_table_name)\n",
    "\n",
    "# Function to determine delayType\n",
    "def get_delay_type(min_delay):\n",
    "    for _, row in delay_df.iterrows():\n",
    "        if row['delayFrom'] <= min_delay <= row['delayTo']:\n",
    "            return row['delayId']\n",
    "    return None\n",
    "\n",
    "# Apply the function to determine delayType\n",
    "df['delayType'] = df['min_delay'].apply(get_delay_type)\n",
    "\n",
    "# Display the DataFrame\n",
    "df.head()\n"
   ]
  },
  {
   "cell_type": "code",
   "execution_count": 5,
   "metadata": {},
   "outputs": [
    {
     "data": {
      "text/html": [
       "<div>\n",
       "<style scoped>\n",
       "    .dataframe tbody tr th:only-of-type {\n",
       "        vertical-align: middle;\n",
       "    }\n",
       "\n",
       "    .dataframe tbody tr th {\n",
       "        vertical-align: top;\n",
       "    }\n",
       "\n",
       "    .dataframe thead th {\n",
       "        text-align: right;\n",
       "    }\n",
       "</style>\n",
       "<table border=\"1\" class=\"dataframe\">\n",
       "  <thead>\n",
       "    <tr style=\"text-align: right;\">\n",
       "      <th></th>\n",
       "      <th>incident_date</th>\n",
       "      <th>min_delay</th>\n",
       "      <th>min_gap</th>\n",
       "      <th>delayType</th>\n",
       "    </tr>\n",
       "  </thead>\n",
       "  <tbody>\n",
       "    <tr>\n",
       "      <th>count</th>\n",
       "      <td>21742</td>\n",
       "      <td>21742.000000</td>\n",
       "      <td>21742.000000</td>\n",
       "      <td>21742.000000</td>\n",
       "    </tr>\n",
       "    <tr>\n",
       "      <th>mean</th>\n",
       "      <td>2023-11-17 14:32:47.730659584</td>\n",
       "      <td>18.185494</td>\n",
       "      <td>27.249885</td>\n",
       "      <td>2.133014</td>\n",
       "    </tr>\n",
       "    <tr>\n",
       "      <th>min</th>\n",
       "      <td>2023-01-01 00:00:00</td>\n",
       "      <td>1.000000</td>\n",
       "      <td>0.000000</td>\n",
       "      <td>1.000000</td>\n",
       "    </tr>\n",
       "    <tr>\n",
       "      <th>25%</th>\n",
       "      <td>2023-06-13 00:00:00</td>\n",
       "      <td>8.000000</td>\n",
       "      <td>16.000000</td>\n",
       "      <td>2.000000</td>\n",
       "    </tr>\n",
       "    <tr>\n",
       "      <th>50%</th>\n",
       "      <td>2023-11-24 00:00:00</td>\n",
       "      <td>10.000000</td>\n",
       "      <td>20.000000</td>\n",
       "      <td>2.000000</td>\n",
       "    </tr>\n",
       "    <tr>\n",
       "      <th>75%</th>\n",
       "      <td>2024-04-15 00:00:00</td>\n",
       "      <td>15.000000</td>\n",
       "      <td>24.000000</td>\n",
       "      <td>2.000000</td>\n",
       "    </tr>\n",
       "    <tr>\n",
       "      <th>max</th>\n",
       "      <td>2024-09-30 00:00:00</td>\n",
       "      <td>960.000000</td>\n",
       "      <td>968.000000</td>\n",
       "      <td>3.000000</td>\n",
       "    </tr>\n",
       "    <tr>\n",
       "      <th>std</th>\n",
       "      <td>NaN</td>\n",
       "      <td>37.272247</td>\n",
       "      <td>39.340414</td>\n",
       "      <td>0.561122</td>\n",
       "    </tr>\n",
       "  </tbody>\n",
       "</table>\n",
       "</div>"
      ],
      "text/plain": [
       "                       incident_date     min_delay       min_gap     delayType\n",
       "count                          21742  21742.000000  21742.000000  21742.000000\n",
       "mean   2023-11-17 14:32:47.730659584     18.185494     27.249885      2.133014\n",
       "min              2023-01-01 00:00:00      1.000000      0.000000      1.000000\n",
       "25%              2023-06-13 00:00:00      8.000000     16.000000      2.000000\n",
       "50%              2023-11-24 00:00:00     10.000000     20.000000      2.000000\n",
       "75%              2024-04-15 00:00:00     15.000000     24.000000      2.000000\n",
       "max              2024-09-30 00:00:00    960.000000    968.000000      3.000000\n",
       "std                              NaN     37.272247     39.340414      0.561122"
      ]
     },
     "execution_count": 5,
     "metadata": {},
     "output_type": "execute_result"
    }
   ],
   "source": [
    "# Display exploratory statistics\n",
    "df.describe()"
   ]
  },
  {
   "cell_type": "code",
   "execution_count": 6,
   "metadata": {},
   "outputs": [
    {
     "name": "stdout",
     "output_type": "stream",
     "text": [
      "<class 'pandas.core.frame.DataFrame'>\n",
      "RangeIndex: 21742 entries, 0 to 21741\n",
      "Data columns (total 16 columns):\n",
      " #   Column         Non-Null Count  Dtype         \n",
      "---  ------         --------------  -----         \n",
      " 0   incident_date  21742 non-null  datetime64[ns]\n",
      " 1   line           21698 non-null  object        \n",
      " 2   incident_time  21742 non-null  object        \n",
      " 3   day_of_week    21742 non-null  object        \n",
      " 4   location       21741 non-null  object        \n",
      " 5   incident       21742 non-null  object        \n",
      " 6   min_delay      21742 non-null  int64         \n",
      " 7   min_gap        21742 non-null  int64         \n",
      " 8   bound          19127 non-null  object        \n",
      " 9   vehicle        21742 non-null  object        \n",
      " 10  holidayType    502 non-null    object        \n",
      " 11  isWeekend      21742 non-null  object        \n",
      " 12  seasonType     21742 non-null  object        \n",
      " 13  lineId         21580 non-null  object        \n",
      " 14  lineName       21580 non-null  object        \n",
      " 15  delayType      21742 non-null  int64         \n",
      "dtypes: datetime64[ns](1), int64(3), object(12)\n",
      "memory usage: 2.7+ MB\n"
     ]
    }
   ],
   "source": [
    "# Assess datatype and any NULL values\n",
    "df.info()"
   ]
  },
  {
   "cell_type": "markdown",
   "metadata": {},
   "source": [
    "*Comment:*\n",
    "\n",
    "-The dataset `df` contains 21,742 entries. \n",
    "\n",
    "1. **Null Values**:\n",
    "   - Several columns contain null values:\n",
    "     - `line` has 44 null values.\n",
    "     - `location` has 1 null value.\n",
    "     - `bound` has a significant number of null values (2,615).\n",
    "     - `holidayType` has many null values, with only 502 non-null entries.\n",
    "     - `lineId` and `lineName` also have null values (162 each).\n",
    "\n",
    "2. **Data Types**:\n",
    "   - `incident_date` is in `datetime64[ns]` format.\n",
    "   - Integer columns include `min_delay`, `min_gap`, and `delayType`.\n",
    "   - The rest are stored as `object`, which includes categorical or string data, like `bound`, `day_of_week`, and `vehicle`.\n",
    "\n",
    "3. **Column Names and Non-Null Counts**:\n",
    "   - This output can help identify where data cleaning might be necessary, such as handling the null values in `bound` and `holidayType`.\n",
    "\n"
   ]
  },
  {
   "cell_type": "markdown",
   "metadata": {},
   "source": [
    "*Note:* \n",
    "\n",
    "- When TTC streetcars are out of service and buses are used as substitutes, these buses are typically assigned the same route number as the streetcar line they are replacing. This helps passengers easily identify the substitute service and understand that it follows the same route as the regular streetcar service.\n",
    "\n",
    "- For example, if a streetcar on route 509 Harbourfront is out of service, a bus might be assigned route number 509 to continue providing service along the same path.\n",
    "\n",
    "- Therefore, we can drop the null values in 'line'.\n"
   ]
  },
  {
   "cell_type": "code",
   "execution_count": 7,
   "metadata": {},
   "outputs": [
    {
     "data": {
      "text/plain": [
       "incident_date     639\n",
       "line               44\n",
       "incident_time    1439\n",
       "day_of_week         7\n",
       "location         3197\n",
       "incident           14\n",
       "min_delay         268\n",
       "min_gap           292\n",
       "bound               8\n",
       "vehicle          1578\n",
       "holidayType         9\n",
       "isWeekend           2\n",
       "seasonType          8\n",
       "lineId             17\n",
       "lineName           12\n",
       "delayType           3\n",
       "dtype: int64"
      ]
     },
     "execution_count": 7,
     "metadata": {},
     "output_type": "execute_result"
    }
   ],
   "source": [
    "# Count the unique values of each of the features\n",
    "df.nunique()"
   ]
  },
  {
   "cell_type": "code",
   "execution_count": 8,
   "metadata": {},
   "outputs": [
    {
     "data": {
      "text/plain": [
       "array(['W', 'E', 'S', None, 'N', 'B', '`', '1', '8'], dtype=object)"
      ]
     },
     "execution_count": 8,
     "metadata": {},
     "output_type": "execute_result"
    }
   ],
   "source": [
    "# Let's see why 'bound' has 8 unique values when it should only have 4 (N, S, W, E)\n",
    "df['bound'].unique()\n"
   ]
  },
  {
   "cell_type": "code",
   "execution_count": 9,
   "metadata": {},
   "outputs": [
    {
     "data": {
      "text/plain": [
       "array(['W', 'E', 'S', 'N'], dtype=object)"
      ]
     },
     "execution_count": 9,
     "metadata": {},
     "output_type": "execute_result"
    }
   ],
   "source": [
    "# Define the allowed values\n",
    "allowed_bounds = ['N', 'S', 'W', 'E']\n",
    "\n",
    "# Filter the DataFrame to keep only rows where 'bound' is in the allowed list\n",
    "df = df[df['bound'].isin(allowed_bounds)]\n",
    "\n",
    "# Reset the index if needed\n",
    "df.reset_index(drop=True, inplace=True)\n",
    "\n",
    "# Display the filtered DataFrame\n",
    "df['bound'].unique()\n"
   ]
  },
  {
   "cell_type": "code",
   "execution_count": 10,
   "metadata": {},
   "outputs": [
    {
     "name": "stdout",
     "output_type": "stream",
     "text": [
      "<class 'pandas.core.frame.DataFrame'>\n",
      "Index: 18985 entries, 0 to 19108\n",
      "Data columns (total 16 columns):\n",
      " #   Column         Non-Null Count  Dtype         \n",
      "---  ------         --------------  -----         \n",
      " 0   incident_date  18985 non-null  datetime64[ns]\n",
      " 1   line           18985 non-null  object        \n",
      " 2   incident_time  18985 non-null  object        \n",
      " 3   day_of_week    18985 non-null  object        \n",
      " 4   location       18985 non-null  object        \n",
      " 5   incident       18985 non-null  object        \n",
      " 6   min_delay      18985 non-null  int64         \n",
      " 7   min_gap        18985 non-null  int64         \n",
      " 8   bound          18985 non-null  object        \n",
      " 9   vehicle        18985 non-null  object        \n",
      " 10  holidayType    436 non-null    object        \n",
      " 11  isWeekend      18985 non-null  object        \n",
      " 12  seasonType     18985 non-null  object        \n",
      " 13  lineId         18985 non-null  object        \n",
      " 14  lineName       18985 non-null  object        \n",
      " 15  delayType      18985 non-null  int64         \n",
      "dtypes: datetime64[ns](1), int64(3), object(12)\n",
      "memory usage: 2.5+ MB\n",
      "None\n"
     ]
    }
   ],
   "source": [
    "# Drop rows with null values in any column except 'holidayType'\n",
    "df = df.dropna(subset=[col for col in df.columns if col != 'holidayType'])\n",
    "\n",
    "# Confirm the remaining rows and null counts\n",
    "print(df.info())\n"
   ]
  },
  {
   "cell_type": "code",
   "execution_count": 11,
   "metadata": {},
   "outputs": [
    {
     "data": {
      "image/png": "[encoded data removed]",
      "text/plain": [
       "<Figure size 1000x600 with 1 Axes>"
      ]
     },
     "metadata": {},
     "output_type": "display_data"
    }
   ],
   "source": [
    "# Check for class imbalance with data visualization tools.\n",
    "\n",
    "# Whisker plot \n",
    "plt.figure(figsize=(10, 6))\n",
    "sns.boxplot(x=df['min_delay'])\n",
    "plt.title('Box Plot of Delay time')\n",
    "plt.show()"
   ]
  },
  {
   "cell_type": "code",
   "execution_count": 12,
   "metadata": {},
   "outputs": [
    {
     "data": {
      "image/png": "[encoded data removed]",
      "text/plain": [
       "<Figure size 1000x600 with 1 Axes>"
      ]
     },
     "metadata": {},
     "output_type": "display_data"
    }
   ],
   "source": [
    "# Histogram\n",
    "plt.figure(figsize=(10, 6))\n",
    "sns.histplot(df['min_delay'], bins=30, kde=True)\n",
    "plt.title('Histogram of min_delay')\n",
    "plt.xlabel('min_delay')\n",
    "plt.ylabel('Frequency')\n",
    "plt.show()"
   ]
  },
  {
   "cell_type": "code",
   "execution_count": 13,
   "metadata": {},
   "outputs": [
    {
     "data": {
      "text/plain": [
       "4744     960\n",
       "4530     948\n",
       "4550     948\n",
       "4506     882\n",
       "16055    873\n",
       "15955    792\n",
       "4761     780\n",
       "170      763\n",
       "4240     728\n",
       "3018     720\n",
       "3972     720\n",
       "18556    703\n",
       "15956    680\n",
       "4421     641\n",
       "13218    640\n",
       "5351     618\n",
       "15680    611\n",
       "1020     575\n",
       "5737     573\n",
       "14167    558\n",
       "Name: min_delay, dtype: int64"
      ]
     },
     "execution_count": 13,
     "metadata": {},
     "output_type": "execute_result"
    }
   ],
   "source": [
    "df['min_delay'].nlargest(20)\n"
   ]
  },
  {
   "cell_type": "code",
   "execution_count": 14,
   "metadata": {},
   "outputs": [
    {
     "data": {
      "image/png": "[encoded data removed]",
      "text/plain": [
       "<Figure size 1000x600 with 1 Axes>"
      ]
     },
     "metadata": {},
     "output_type": "display_data"
    }
   ],
   "source": [
    "# Filter the DataFrame for min_delay values for thresholds\n",
    "df_delay_16_plus = df[df['min_delay'] >= 16]\n",
    "\n",
    "# Plot the histogram\n",
    "plt.figure(figsize=(10, 6))\n",
    "plt.hist(df_delay_16_plus['min_delay'], bins=100, color='skyblue', edgecolor='black')\n",
    "plt.title('Histogram of min_delay (above 15 minutes)')\n",
    "plt.xlabel('Delay in Minutes')\n",
    "plt.ylabel('Frequency')\n",
    "plt.show()\n"
   ]
  },
  {
   "cell_type": "code",
   "execution_count": 15,
   "metadata": {},
   "outputs": [
    {
     "data": {
      "image/png": "[encoded data removed]",
      "text/plain": [
       "<Figure size 1000x600 with 1 Axes>"
      ]
     },
     "metadata": {},
     "output_type": "display_data"
    }
   ],
   "source": [
    "# Filter the DataFrame for min_delay values for thresholds\n",
    "df_delay_16_to_60 = df[(df['min_delay'] >= 16) & (df['min_delay'] <= 60)]\n",
    "\n",
    "# Plot the histogram\n",
    "plt.figure(figsize=(10, 6))\n",
    "plt.hist(df_delay_16_to_60['min_delay'], bins=30, color='skyblue', edgecolor='black')\n",
    "plt.title('Histogram of min_delay (16 minutes to 1 hour)')\n",
    "plt.xlabel('Delay in Minutes')\n",
    "plt.ylabel('Frequency')\n",
    "plt.show()\n"
   ]
  },
  {
   "cell_type": "markdown",
   "metadata": {},
   "source": [
    "*Observation:*\n",
    "\n",
    "- Frequency drops from about 600 instances for 20-minute delays, to less than 300 instances for 30-minute delays, to about 100 instances for each of 40-minute delays, 50-minute delays, and 60 minute delays. \n",
    "\n"
   ]
  },
  {
   "cell_type": "code",
   "execution_count": 16,
   "metadata": {},
   "outputs": [
    {
     "data": {
      "image/png": "[encoded data removed]",
      "text/plain": [
       "<Figure size 1000x600 with 1 Axes>"
      ]
     },
     "metadata": {},
     "output_type": "display_data"
    }
   ],
   "source": [
    "# Filter the DataFrame for min_delay values for thresholds\n",
    "df_delay_61_to_90 = df[(df['min_delay'] >= 61) & (df['min_delay'] <= 90)]\n",
    "\n",
    "# Plot the histogram\n",
    "plt.figure(figsize=(10, 6))\n",
    "plt.hist(df_delay_61_to_90['min_delay'], bins=30, color='skyblue', edgecolor='black')\n",
    "plt.title('Histogram of min_delay (1 to 1.5 hours)')\n",
    "plt.xlabel('Delay in Minutes')\n",
    "plt.ylabel('Frequency')\n",
    "plt.show()"
   ]
  },
  {
   "cell_type": "code",
   "execution_count": 17,
   "metadata": {},
   "outputs": [
    {
     "data": {
      "image/png": "[encoded data removed]",
      "text/plain": [
       "<Figure size 1000x600 with 1 Axes>"
      ]
     },
     "metadata": {},
     "output_type": "display_data"
    }
   ],
   "source": [
    "# Filter the DataFrame for min_delay values for thresholds\n",
    "df_delay_above_90 = df[(df['min_delay'] >= 91)]\n",
    "\n",
    "# Plot the histogram\n",
    "plt.figure(figsize=(10, 6))\n",
    "plt.hist(df_delay_above_90['min_delay'], bins=30, color='skyblue', edgecolor='black')\n",
    "plt.title('Histogram of min_delay (above 1.5 hours)')\n",
    "plt.xlabel('Delay in Minutes')\n",
    "plt.ylabel('Frequency')\n",
    "plt.show()"
   ]
  },
  {
   "cell_type": "code",
   "execution_count": 18,
   "metadata": {},
   "outputs": [
    {
     "data": {
      "image/png": "[encoded data removed]",
      "text/plain": [
       "<Figure size 1000x600 with 1 Axes>"
      ]
     },
     "metadata": {},
     "output_type": "display_data"
    }
   ],
   "source": [
    "# Filter the DataFrame for min_delay values for thresholds\n",
    "df_delay_above_300 = df[(df['min_delay'] >= 301)]\n",
    "\n",
    "# Plot the histogram\n",
    "plt.figure(figsize=(10, 6))\n",
    "plt.hist(df_delay_above_300['min_delay'], bins=30, color='skyblue', edgecolor='black')\n",
    "plt.title('Histogram of min_delay (above 5 hours)')\n",
    "plt.xlabel('Delay in Minutes')\n",
    "plt.ylabel('Frequency')\n",
    "plt.show()"
   ]
  },
  {
   "cell_type": "markdown",
   "metadata": {},
   "source": [
    "*Comment:*\n",
    "\n",
    "- We will remove instances where the delays are more than 5 hours. "
   ]
  },
  {
   "cell_type": "code",
   "execution_count": 19,
   "metadata": {},
   "outputs": [
    {
     "data": {
      "text/html": [
       "<div>\n",
       "<style scoped>\n",
       "    .dataframe tbody tr th:only-of-type {\n",
       "        vertical-align: middle;\n",
       "    }\n",
       "\n",
       "    .dataframe tbody tr th {\n",
       "        vertical-align: top;\n",
       "    }\n",
       "\n",
       "    .dataframe thead th {\n",
       "        text-align: right;\n",
       "    }\n",
       "</style>\n",
       "<table border=\"1\" class=\"dataframe\">\n",
       "  <thead>\n",
       "    <tr style=\"text-align: right;\">\n",
       "      <th></th>\n",
       "      <th>incident_date</th>\n",
       "      <th>line</th>\n",
       "      <th>incident_time</th>\n",
       "      <th>day_of_week</th>\n",
       "      <th>location</th>\n",
       "      <th>incident</th>\n",
       "      <th>min_delay</th>\n",
       "      <th>min_gap</th>\n",
       "      <th>bound</th>\n",
       "      <th>vehicle</th>\n",
       "      <th>holidayType</th>\n",
       "      <th>isWeekend</th>\n",
       "      <th>seasonType</th>\n",
       "      <th>lineId</th>\n",
       "      <th>lineName</th>\n",
       "      <th>delayType</th>\n",
       "    </tr>\n",
       "  </thead>\n",
       "  <tbody>\n",
       "    <tr>\n",
       "      <th>170</th>\n",
       "      <td>2023-01-08</td>\n",
       "      <td>506</td>\n",
       "      <td>04:44</td>\n",
       "      <td>Sunday</td>\n",
       "      <td>COLLEGE AND GRACE</td>\n",
       "      <td>Diversion</td>\n",
       "      <td>763</td>\n",
       "      <td>773</td>\n",
       "      <td>E</td>\n",
       "      <td>4545</td>\n",
       "      <td>None</td>\n",
       "      <td>yes</td>\n",
       "      <td>Winter 2023</td>\n",
       "      <td>506</td>\n",
       "      <td>Carlton</td>\n",
       "      <td>3</td>\n",
       "    </tr>\n",
       "    <tr>\n",
       "      <th>1020</th>\n",
       "      <td>2023-02-07</td>\n",
       "      <td>501</td>\n",
       "      <td>11:25</td>\n",
       "      <td>Tuesday</td>\n",
       "      <td>QUEEN AND GLADSTONE</td>\n",
       "      <td>Diversion</td>\n",
       "      <td>575</td>\n",
       "      <td>581</td>\n",
       "      <td>W</td>\n",
       "      <td>4472</td>\n",
       "      <td>None</td>\n",
       "      <td>no</td>\n",
       "      <td>Winter 2023</td>\n",
       "      <td>501</td>\n",
       "      <td>Queen</td>\n",
       "      <td>3</td>\n",
       "    </tr>\n",
       "    <tr>\n",
       "      <th>2052</th>\n",
       "      <td>2023-03-15</td>\n",
       "      <td>501</td>\n",
       "      <td>06:45</td>\n",
       "      <td>Wednesday</td>\n",
       "      <td>585 QUEEN ST</td>\n",
       "      <td>Diversion</td>\n",
       "      <td>323</td>\n",
       "      <td>331</td>\n",
       "      <td>E</td>\n",
       "      <td>4459</td>\n",
       "      <td>None</td>\n",
       "      <td>no</td>\n",
       "      <td>Winter 2023</td>\n",
       "      <td>501</td>\n",
       "      <td>Queen</td>\n",
       "      <td>3</td>\n",
       "    </tr>\n",
       "    <tr>\n",
       "      <th>3018</th>\n",
       "      <td>2023-04-15</td>\n",
       "      <td>509</td>\n",
       "      <td>07:11</td>\n",
       "      <td>Saturday</td>\n",
       "      <td>QUEENS QUAY AND LOWER</td>\n",
       "      <td>Diversion</td>\n",
       "      <td>720</td>\n",
       "      <td>728</td>\n",
       "      <td>W</td>\n",
       "      <td>1127</td>\n",
       "      <td>None</td>\n",
       "      <td>yes</td>\n",
       "      <td>Spring 2023</td>\n",
       "      <td>509</td>\n",
       "      <td>Harbourfront</td>\n",
       "      <td>3</td>\n",
       "    </tr>\n",
       "    <tr>\n",
       "      <th>3021</th>\n",
       "      <td>2023-04-15</td>\n",
       "      <td>510</td>\n",
       "      <td>10:48</td>\n",
       "      <td>Saturday</td>\n",
       "      <td>SPADINA BW KING TO QUE</td>\n",
       "      <td>Diversion</td>\n",
       "      <td>419</td>\n",
       "      <td>423</td>\n",
       "      <td>S</td>\n",
       "      <td>4574</td>\n",
       "      <td>None</td>\n",
       "      <td>yes</td>\n",
       "      <td>Spring 2023</td>\n",
       "      <td>510</td>\n",
       "      <td>Spadina</td>\n",
       "      <td>3</td>\n",
       "    </tr>\n",
       "  </tbody>\n",
       "</table>\n",
       "</div>"
      ],
      "text/plain": [
       "     incident_date line incident_time day_of_week                location  \\\n",
       "170     2023-01-08  506         04:44      Sunday       COLLEGE AND GRACE   \n",
       "1020    2023-02-07  501         11:25     Tuesday     QUEEN AND GLADSTONE   \n",
       "2052    2023-03-15  501         06:45   Wednesday            585 QUEEN ST   \n",
       "3018    2023-04-15  509         07:11    Saturday   QUEENS QUAY AND LOWER   \n",
       "3021    2023-04-15  510         10:48    Saturday  SPADINA BW KING TO QUE   \n",
       "\n",
       "       incident  min_delay  min_gap bound vehicle holidayType isWeekend  \\\n",
       "170   Diversion        763      773     E    4545        None       yes   \n",
       "1020  Diversion        575      581     W    4472        None        no   \n",
       "2052  Diversion        323      331     E    4459        None        no   \n",
       "3018  Diversion        720      728     W    1127        None       yes   \n",
       "3021  Diversion        419      423     S    4574        None       yes   \n",
       "\n",
       "       seasonType lineId      lineName  delayType  \n",
       "170   Winter 2023    506       Carlton          3  \n",
       "1020  Winter 2023    501         Queen          3  \n",
       "2052  Winter 2023    501         Queen          3  \n",
       "3018  Spring 2023    509  Harbourfront          3  \n",
       "3021  Spring 2023    510       Spadina          3  "
      ]
     },
     "execution_count": 19,
     "metadata": {},
     "output_type": "execute_result"
    }
   ],
   "source": [
    "# Create a new DataFrame with min_delay values of 300 minutes or more - for later studies\n",
    "df_delay_over_5hr = df[df['min_delay'] >= 300]\n",
    "\n",
    "# Display the new DataFrame\n",
    "df_delay_over_5hr.head()\n",
    "\n"
   ]
  },
  {
   "cell_type": "code",
   "execution_count": 20,
   "metadata": {},
   "outputs": [
    {
     "data": {
      "text/html": [
       "<div>\n",
       "<style scoped>\n",
       "    .dataframe tbody tr th:only-of-type {\n",
       "        vertical-align: middle;\n",
       "    }\n",
       "\n",
       "    .dataframe tbody tr th {\n",
       "        vertical-align: top;\n",
       "    }\n",
       "\n",
       "    .dataframe thead th {\n",
       "        text-align: right;\n",
       "    }\n",
       "</style>\n",
       "<table border=\"1\" class=\"dataframe\">\n",
       "  <thead>\n",
       "    <tr style=\"text-align: right;\">\n",
       "      <th></th>\n",
       "      <th>incident_date</th>\n",
       "      <th>line</th>\n",
       "      <th>incident_time</th>\n",
       "      <th>day_of_week</th>\n",
       "      <th>location</th>\n",
       "      <th>incident</th>\n",
       "      <th>min_delay</th>\n",
       "      <th>min_gap</th>\n",
       "      <th>bound</th>\n",
       "      <th>vehicle</th>\n",
       "      <th>holidayType</th>\n",
       "      <th>isWeekend</th>\n",
       "      <th>seasonType</th>\n",
       "      <th>lineId</th>\n",
       "      <th>lineName</th>\n",
       "      <th>delayType</th>\n",
       "    </tr>\n",
       "  </thead>\n",
       "  <tbody>\n",
       "    <tr>\n",
       "      <th>0</th>\n",
       "      <td>2023-01-01</td>\n",
       "      <td>505</td>\n",
       "      <td>02:40</td>\n",
       "      <td>Sunday</td>\n",
       "      <td>BROADVIEW AND GERRARD</td>\n",
       "      <td>Held By</td>\n",
       "      <td>15</td>\n",
       "      <td>25</td>\n",
       "      <td>W</td>\n",
       "      <td>4460</td>\n",
       "      <td>New Year's Day</td>\n",
       "      <td>yes</td>\n",
       "      <td>Winter 2023</td>\n",
       "      <td>505</td>\n",
       "      <td>Dundas</td>\n",
       "      <td>2</td>\n",
       "    </tr>\n",
       "    <tr>\n",
       "      <th>1</th>\n",
       "      <td>2023-01-01</td>\n",
       "      <td>504</td>\n",
       "      <td>02:52</td>\n",
       "      <td>Sunday</td>\n",
       "      <td>KING AND BATHURST</td>\n",
       "      <td>Cleaning - Unsanitary</td>\n",
       "      <td>10</td>\n",
       "      <td>20</td>\n",
       "      <td>W</td>\n",
       "      <td>4427</td>\n",
       "      <td>New Year's Day</td>\n",
       "      <td>yes</td>\n",
       "      <td>Winter 2023</td>\n",
       "      <td>504</td>\n",
       "      <td>King</td>\n",
       "      <td>2</td>\n",
       "    </tr>\n",
       "    <tr>\n",
       "      <th>2</th>\n",
       "      <td>2023-01-01</td>\n",
       "      <td>504</td>\n",
       "      <td>02:59</td>\n",
       "      <td>Sunday</td>\n",
       "      <td>KING AND BATHURST</td>\n",
       "      <td>Held By</td>\n",
       "      <td>25</td>\n",
       "      <td>35</td>\n",
       "      <td>E</td>\n",
       "      <td>4560</td>\n",
       "      <td>New Year's Day</td>\n",
       "      <td>yes</td>\n",
       "      <td>Winter 2023</td>\n",
       "      <td>504</td>\n",
       "      <td>King</td>\n",
       "      <td>3</td>\n",
       "    </tr>\n",
       "    <tr>\n",
       "      <th>3</th>\n",
       "      <td>2023-01-01</td>\n",
       "      <td>510</td>\n",
       "      <td>05:38</td>\n",
       "      <td>Sunday</td>\n",
       "      <td>SPADINA AND DUNDAS</td>\n",
       "      <td>Security</td>\n",
       "      <td>15</td>\n",
       "      <td>30</td>\n",
       "      <td>S</td>\n",
       "      <td>4449</td>\n",
       "      <td>New Year's Day</td>\n",
       "      <td>yes</td>\n",
       "      <td>Winter 2023</td>\n",
       "      <td>510</td>\n",
       "      <td>Spadina</td>\n",
       "      <td>2</td>\n",
       "    </tr>\n",
       "    <tr>\n",
       "      <th>4</th>\n",
       "      <td>2023-01-01</td>\n",
       "      <td>501</td>\n",
       "      <td>08:52</td>\n",
       "      <td>Sunday</td>\n",
       "      <td>LAKE SHORE AND THIRTY</td>\n",
       "      <td>Cleaning - Unsanitary</td>\n",
       "      <td>10</td>\n",
       "      <td>20</td>\n",
       "      <td>W</td>\n",
       "      <td>8015</td>\n",
       "      <td>New Year's Day</td>\n",
       "      <td>yes</td>\n",
       "      <td>Winter 2023</td>\n",
       "      <td>501</td>\n",
       "      <td>Queen</td>\n",
       "      <td>2</td>\n",
       "    </tr>\n",
       "  </tbody>\n",
       "</table>\n",
       "</div>"
      ],
      "text/plain": [
       "  incident_date line incident_time day_of_week               location  \\\n",
       "0    2023-01-01  505         02:40      Sunday  BROADVIEW AND GERRARD   \n",
       "1    2023-01-01  504         02:52      Sunday      KING AND BATHURST   \n",
       "2    2023-01-01  504         02:59      Sunday      KING AND BATHURST   \n",
       "3    2023-01-01  510         05:38      Sunday     SPADINA AND DUNDAS   \n",
       "4    2023-01-01  501         08:52      Sunday  LAKE SHORE AND THIRTY   \n",
       "\n",
       "                incident  min_delay  min_gap bound vehicle     holidayType  \\\n",
       "0                Held By         15       25     W    4460  New Year's Day   \n",
       "1  Cleaning - Unsanitary         10       20     W    4427  New Year's Day   \n",
       "2                Held By         25       35     E    4560  New Year's Day   \n",
       "3               Security         15       30     S    4449  New Year's Day   \n",
       "4  Cleaning - Unsanitary         10       20     W    8015  New Year's Day   \n",
       "\n",
       "  isWeekend   seasonType lineId lineName  delayType  \n",
       "0       yes  Winter 2023    505   Dundas          2  \n",
       "1       yes  Winter 2023    504     King          2  \n",
       "2       yes  Winter 2023    504     King          3  \n",
       "3       yes  Winter 2023    510  Spadina          2  \n",
       "4       yes  Winter 2023    501    Queen          2  "
      ]
     },
     "execution_count": 20,
     "metadata": {},
     "output_type": "execute_result"
    }
   ],
   "source": [
    "# Create a new DataFrame with min_delay values less than 300 minutes\n",
    "df_new = df[df['min_delay'] < 300]\n",
    "\n",
    "# Display the new DataFrame\n",
    "df_new.head()\n",
    "\n"
   ]
  },
  {
   "cell_type": "code",
   "execution_count": 21,
   "metadata": {},
   "outputs": [
    {
     "data": {
      "text/html": [
       "<div>\n",
       "<style scoped>\n",
       "    .dataframe tbody tr th:only-of-type {\n",
       "        vertical-align: middle;\n",
       "    }\n",
       "\n",
       "    .dataframe tbody tr th {\n",
       "        vertical-align: top;\n",
       "    }\n",
       "\n",
       "    .dataframe thead th {\n",
       "        text-align: right;\n",
       "    }\n",
       "</style>\n",
       "<table border=\"1\" class=\"dataframe\">\n",
       "  <thead>\n",
       "    <tr style=\"text-align: right;\">\n",
       "      <th></th>\n",
       "      <th>incident_date</th>\n",
       "      <th>min_delay</th>\n",
       "      <th>min_gap</th>\n",
       "      <th>delayType</th>\n",
       "    </tr>\n",
       "  </thead>\n",
       "  <tbody>\n",
       "    <tr>\n",
       "      <th>count</th>\n",
       "      <td>18935</td>\n",
       "      <td>18935.000000</td>\n",
       "      <td>18935.000000</td>\n",
       "      <td>18935.000000</td>\n",
       "    </tr>\n",
       "    <tr>\n",
       "      <th>mean</th>\n",
       "      <td>2023-11-19 01:43:11.961975040</td>\n",
       "      <td>16.263692</td>\n",
       "      <td>25.286929</td>\n",
       "      <td>2.120201</td>\n",
       "    </tr>\n",
       "    <tr>\n",
       "      <th>min</th>\n",
       "      <td>2023-01-01 00:00:00</td>\n",
       "      <td>1.000000</td>\n",
       "      <td>0.000000</td>\n",
       "      <td>1.000000</td>\n",
       "    </tr>\n",
       "    <tr>\n",
       "      <th>25%</th>\n",
       "      <td>2023-06-13 00:00:00</td>\n",
       "      <td>8.000000</td>\n",
       "      <td>16.000000</td>\n",
       "      <td>2.000000</td>\n",
       "    </tr>\n",
       "    <tr>\n",
       "      <th>50%</th>\n",
       "      <td>2023-11-25 00:00:00</td>\n",
       "      <td>10.000000</td>\n",
       "      <td>20.000000</td>\n",
       "      <td>2.000000</td>\n",
       "    </tr>\n",
       "    <tr>\n",
       "      <th>75%</th>\n",
       "      <td>2024-04-18 00:00:00</td>\n",
       "      <td>14.000000</td>\n",
       "      <td>23.000000</td>\n",
       "      <td>2.000000</td>\n",
       "    </tr>\n",
       "    <tr>\n",
       "      <th>max</th>\n",
       "      <td>2024-09-30 00:00:00</td>\n",
       "      <td>283.000000</td>\n",
       "      <td>789.000000</td>\n",
       "      <td>3.000000</td>\n",
       "    </tr>\n",
       "    <tr>\n",
       "      <th>std</th>\n",
       "      <td>NaN</td>\n",
       "      <td>21.685133</td>\n",
       "      <td>23.699371</td>\n",
       "      <td>0.557766</td>\n",
       "    </tr>\n",
       "  </tbody>\n",
       "</table>\n",
       "</div>"
      ],
      "text/plain": [
       "                       incident_date     min_delay       min_gap     delayType\n",
       "count                          18935  18935.000000  18935.000000  18935.000000\n",
       "mean   2023-11-19 01:43:11.961975040     16.263692     25.286929      2.120201\n",
       "min              2023-01-01 00:00:00      1.000000      0.000000      1.000000\n",
       "25%              2023-06-13 00:00:00      8.000000     16.000000      2.000000\n",
       "50%              2023-11-25 00:00:00     10.000000     20.000000      2.000000\n",
       "75%              2024-04-18 00:00:00     14.000000     23.000000      2.000000\n",
       "max              2024-09-30 00:00:00    283.000000    789.000000      3.000000\n",
       "std                              NaN     21.685133     23.699371      0.557766"
      ]
     },
     "execution_count": 21,
     "metadata": {},
     "output_type": "execute_result"
    }
   ],
   "source": [
    "df_new.describe()"
   ]
  },
  {
   "cell_type": "code",
   "execution_count": 22,
   "metadata": {},
   "outputs": [
    {
     "name": "stdout",
     "output_type": "stream",
     "text": [
      "<class 'pandas.core.frame.DataFrame'>\n",
      "Index: 18935 entries, 0 to 19108\n",
      "Data columns (total 16 columns):\n",
      " #   Column         Non-Null Count  Dtype         \n",
      "---  ------         --------------  -----         \n",
      " 0   incident_date  18935 non-null  datetime64[ns]\n",
      " 1   line           18935 non-null  object        \n",
      " 2   incident_time  18935 non-null  object        \n",
      " 3   day_of_week    18935 non-null  object        \n",
      " 4   location       18935 non-null  object        \n",
      " 5   incident       18935 non-null  object        \n",
      " 6   min_delay      18935 non-null  int64         \n",
      " 7   min_gap        18935 non-null  int64         \n",
      " 8   bound          18935 non-null  object        \n",
      " 9   vehicle        18935 non-null  object        \n",
      " 10  holidayType    436 non-null    object        \n",
      " 11  isWeekend      18935 non-null  object        \n",
      " 12  seasonType     18935 non-null  object        \n",
      " 13  lineId         18935 non-null  object        \n",
      " 14  lineName       18935 non-null  object        \n",
      " 15  delayType      18935 non-null  int64         \n",
      "dtypes: datetime64[ns](1), int64(3), object(12)\n",
      "memory usage: 2.5+ MB\n"
     ]
    }
   ],
   "source": [
    "df_new.info()"
   ]
  },
  {
   "cell_type": "code",
   "execution_count": 23,
   "metadata": {},
   "outputs": [
    {
     "name": "stderr",
     "output_type": "stream",
     "text": [
      "Could not infer format, so each element will be parsed individually, falling back to `dateutil`. To ensure parsing is consistent and as-expected, please specify a format.\n",
      "\n",
      "A value is trying to be set on a copy of a slice from a DataFrame.\n",
      "Try using .loc[row_indexer,col_indexer] = value instead\n",
      "\n",
      "See the caveats in the documentation: https://pandas.pydata.org/pandas-docs/stable/user_guide/indexing.html#returning-a-view-versus-a-copy\n",
      "\n",
      "A value is trying to be set on a copy of a slice from a DataFrame.\n",
      "Try using .loc[row_indexer,col_indexer] = value instead\n",
      "\n",
      "See the caveats in the documentation: https://pandas.pydata.org/pandas-docs/stable/user_guide/indexing.html#returning-a-view-versus-a-copy\n"
     ]
    },
    {
     "data": {
      "text/html": [
       "<div>\n",
       "<style scoped>\n",
       "    .dataframe tbody tr th:only-of-type {\n",
       "        vertical-align: middle;\n",
       "    }\n",
       "\n",
       "    .dataframe tbody tr th {\n",
       "        vertical-align: top;\n",
       "    }\n",
       "\n",
       "    .dataframe thead th {\n",
       "        text-align: right;\n",
       "    }\n",
       "</style>\n",
       "<table border=\"1\" class=\"dataframe\">\n",
       "  <thead>\n",
       "    <tr style=\"text-align: right;\">\n",
       "      <th></th>\n",
       "      <th>incident_date</th>\n",
       "      <th>incident_time</th>\n",
       "      <th>min_delay</th>\n",
       "      <th>min_gap</th>\n",
       "      <th>lineId</th>\n",
       "      <th>lineName</th>\n",
       "      <th>delayType</th>\n",
       "      <th>location_1 DAVIES AVE</th>\n",
       "      <th>location_10 RITCHIE AVE</th>\n",
       "      <th>location_100 KING ST W</th>\n",
       "      <th>...</th>\n",
       "      <th>holidayType_Thanksgiving</th>\n",
       "      <th>holidayType_Victoria Day</th>\n",
       "      <th>isWeekend_yes</th>\n",
       "      <th>seasonType_Fall 2024</th>\n",
       "      <th>seasonType_Spring 2023</th>\n",
       "      <th>seasonType_Spring 2024</th>\n",
       "      <th>seasonType_Summer 2023</th>\n",
       "      <th>seasonType_Summer 2024</th>\n",
       "      <th>seasonType_Winter 2023</th>\n",
       "      <th>seasonType_Winter 2024</th>\n",
       "    </tr>\n",
       "  </thead>\n",
       "  <tbody>\n",
       "    <tr>\n",
       "      <th>0</th>\n",
       "      <td>2023-01-01</td>\n",
       "      <td>02:40:00</td>\n",
       "      <td>15</td>\n",
       "      <td>25</td>\n",
       "      <td>505</td>\n",
       "      <td>Dundas</td>\n",
       "      <td>2</td>\n",
       "      <td>False</td>\n",
       "      <td>False</td>\n",
       "      <td>False</td>\n",
       "      <td>...</td>\n",
       "      <td>False</td>\n",
       "      <td>False</td>\n",
       "      <td>True</td>\n",
       "      <td>False</td>\n",
       "      <td>False</td>\n",
       "      <td>False</td>\n",
       "      <td>False</td>\n",
       "      <td>False</td>\n",
       "      <td>True</td>\n",
       "      <td>False</td>\n",
       "    </tr>\n",
       "    <tr>\n",
       "      <th>1</th>\n",
       "      <td>2023-01-01</td>\n",
       "      <td>02:52:00</td>\n",
       "      <td>10</td>\n",
       "      <td>20</td>\n",
       "      <td>504</td>\n",
       "      <td>King</td>\n",
       "      <td>2</td>\n",
       "      <td>False</td>\n",
       "      <td>False</td>\n",
       "      <td>False</td>\n",
       "      <td>...</td>\n",
       "      <td>False</td>\n",
       "      <td>False</td>\n",
       "      <td>True</td>\n",
       "      <td>False</td>\n",
       "      <td>False</td>\n",
       "      <td>False</td>\n",
       "      <td>False</td>\n",
       "      <td>False</td>\n",
       "      <td>True</td>\n",
       "      <td>False</td>\n",
       "    </tr>\n",
       "    <tr>\n",
       "      <th>2</th>\n",
       "      <td>2023-01-01</td>\n",
       "      <td>02:59:00</td>\n",
       "      <td>25</td>\n",
       "      <td>35</td>\n",
       "      <td>504</td>\n",
       "      <td>King</td>\n",
       "      <td>3</td>\n",
       "      <td>False</td>\n",
       "      <td>False</td>\n",
       "      <td>False</td>\n",
       "      <td>...</td>\n",
       "      <td>False</td>\n",
       "      <td>False</td>\n",
       "      <td>True</td>\n",
       "      <td>False</td>\n",
       "      <td>False</td>\n",
       "      <td>False</td>\n",
       "      <td>False</td>\n",
       "      <td>False</td>\n",
       "      <td>True</td>\n",
       "      <td>False</td>\n",
       "    </tr>\n",
       "    <tr>\n",
       "      <th>3</th>\n",
       "      <td>2023-01-01</td>\n",
       "      <td>05:38:00</td>\n",
       "      <td>15</td>\n",
       "      <td>30</td>\n",
       "      <td>510</td>\n",
       "      <td>Spadina</td>\n",
       "      <td>2</td>\n",
       "      <td>False</td>\n",
       "      <td>False</td>\n",
       "      <td>False</td>\n",
       "      <td>...</td>\n",
       "      <td>False</td>\n",
       "      <td>False</td>\n",
       "      <td>True</td>\n",
       "      <td>False</td>\n",
       "      <td>False</td>\n",
       "      <td>False</td>\n",
       "      <td>False</td>\n",
       "      <td>False</td>\n",
       "      <td>True</td>\n",
       "      <td>False</td>\n",
       "    </tr>\n",
       "    <tr>\n",
       "      <th>4</th>\n",
       "      <td>2023-01-01</td>\n",
       "      <td>08:52:00</td>\n",
       "      <td>10</td>\n",
       "      <td>20</td>\n",
       "      <td>501</td>\n",
       "      <td>Queen</td>\n",
       "      <td>2</td>\n",
       "      <td>False</td>\n",
       "      <td>False</td>\n",
       "      <td>False</td>\n",
       "      <td>...</td>\n",
       "      <td>False</td>\n",
       "      <td>False</td>\n",
       "      <td>True</td>\n",
       "      <td>False</td>\n",
       "      <td>False</td>\n",
       "      <td>False</td>\n",
       "      <td>False</td>\n",
       "      <td>False</td>\n",
       "      <td>True</td>\n",
       "      <td>False</td>\n",
       "    </tr>\n",
       "  </tbody>\n",
       "</table>\n",
       "<p>5 rows × 4494 columns</p>\n",
       "</div>"
      ],
      "text/plain": [
       "  incident_date incident_time  min_delay  min_gap lineId lineName  delayType  \\\n",
       "0    2023-01-01      02:40:00         15       25    505   Dundas          2   \n",
       "1    2023-01-01      02:52:00         10       20    504     King          2   \n",
       "2    2023-01-01      02:59:00         25       35    504     King          3   \n",
       "3    2023-01-01      05:38:00         15       30    510  Spadina          2   \n",
       "4    2023-01-01      08:52:00         10       20    501    Queen          2   \n",
       "\n",
       "   location_1 DAVIES AVE  location_10 RITCHIE AVE  location_100 KING ST W  \\\n",
       "0                  False                    False                   False   \n",
       "1                  False                    False                   False   \n",
       "2                  False                    False                   False   \n",
       "3                  False                    False                   False   \n",
       "4                  False                    False                   False   \n",
       "\n",
       "   ...  holidayType_Thanksgiving  holidayType_Victoria Day  isWeekend_yes  \\\n",
       "0  ...                     False                     False           True   \n",
       "1  ...                     False                     False           True   \n",
       "2  ...                     False                     False           True   \n",
       "3  ...                     False                     False           True   \n",
       "4  ...                     False                     False           True   \n",
       "\n",
       "   seasonType_Fall 2024  seasonType_Spring 2023  seasonType_Spring 2024  \\\n",
       "0                 False                   False                   False   \n",
       "1                 False                   False                   False   \n",
       "2                 False                   False                   False   \n",
       "3                 False                   False                   False   \n",
       "4                 False                   False                   False   \n",
       "\n",
       "   seasonType_Summer 2023  seasonType_Summer 2024  seasonType_Winter 2023  \\\n",
       "0                   False                   False                    True   \n",
       "1                   False                   False                    True   \n",
       "2                   False                   False                    True   \n",
       "3                   False                   False                    True   \n",
       "4                   False                   False                    True   \n",
       "\n",
       "   seasonType_Winter 2024  \n",
       "0                   False  \n",
       "1                   False  \n",
       "2                   False  \n",
       "3                   False  \n",
       "4                   False  \n",
       "\n",
       "[5 rows x 4494 columns]"
      ]
     },
     "execution_count": 23,
     "metadata": {},
     "output_type": "execute_result"
    }
   ],
   "source": [
    "# Convert incident_time to datetime format, inferring time format\n",
    "df_new['incident_time'] = pd.to_datetime(df_new['incident_time'], errors='coerce').dt.time\n",
    "\n",
    "# Define function to categorize time\n",
    "def categorize_time(time):\n",
    "    if pd.isna(time):\n",
    "        return None\n",
    "    if pd.to_datetime('06:30').time() <= time <= pd.to_datetime('09:30').time():\n",
    "        return 'morning_peak'\n",
    "    elif pd.to_datetime('10:00').time() <= time <= pd.to_datetime('14:00').time():\n",
    "        return 'midday'\n",
    "    elif pd.to_datetime('16:30').time() <= time <= pd.to_datetime('19:00').time():\n",
    "        return 'evening_peak'\n",
    "    else:\n",
    "        return 'off_peak'\n",
    "\n",
    "# Apply function to create new column \"timeType\"\n",
    "df_new['timeType'] = df_new['incident_time'].apply(categorize_time)\n",
    "\n",
    "# Clean columns: location, bound, incident, vehicle, day_of_week\n",
    "# Define a helper function for cleaning columns\n",
    "def clean_column(df, column_name, valid_values=None):\n",
    "    # Remove leading and trailing spaces\n",
    "    df[column_name] = df[column_name].str.strip()\n",
    "    \n",
    "    # Drop null values\n",
    "    df = df.dropna(subset=[column_name])\n",
    "    \n",
    "    # If valid values are provided, filter the dataframe\n",
    "    if valid_values:\n",
    "        df = df[df[column_name].isin(valid_values)]\n",
    "    \n",
    "    return df\n",
    "\n",
    "# Initialize df_cleaned to be a copy of df_new\n",
    "df_cleaned = df_new.copy()\n",
    "\n",
    "# Apply the function to each column that needs cleaning\n",
    "df_cleaned = clean_column(df_cleaned, 'location')\n",
    "df_cleaned = clean_column(df_cleaned, 'incident')\n",
    "df_cleaned = clean_column(df_cleaned, 'vehicle')\n",
    "df_cleaned = clean_column(df_cleaned, 'day_of_week')\n",
    "df_cleaned = clean_column(df_cleaned, 'line')\n",
    "df_cleaned = clean_column(df_cleaned, 'bound')\n",
    "\n",
    "# One-Hot Encode Categorical Columns\n",
    "\n",
    "# Identify categorical columns that need to be one-hot encoded\n",
    "categorical_cols = ['location', 'incident', 'vehicle', 'day_of_week', 'line', 'bound', 'timeType', 'holidayType', 'isWeekend', 'seasonType']\n",
    "\n",
    "# Use pandas get_dummies to one-hot encode the categorical columns\n",
    "df_cleaned = pd.get_dummies(df_cleaned, columns=categorical_cols, drop_first=True)\n",
    "\n",
    "# Display the DataFrame after one-hot encoding\n",
    "df_cleaned.head()\n"
   ]
  },
  {
   "cell_type": "code",
   "execution_count": null,
   "metadata": {},
   "outputs": [],
   "source": []
  },
  {
   "cell_type": "code",
   "execution_count": null,
   "metadata": {},
   "outputs": [],
   "source": []
  },
  {
   "cell_type": "code",
   "execution_count": 24,
   "metadata": {},
   "outputs": [],
   "source": [
    "# Save column names to a text file\n",
    "with open(\"column_names.txt\", \"w\") as f:\n",
    "    for column in df_cleaned.columns:\n",
    "        f.write(f\"{column}\\n\")\n"
   ]
  },
  {
   "cell_type": "code",
   "execution_count": 25,
   "metadata": {},
   "outputs": [],
   "source": [
    "# Save column names in SQL format to create a table schema\n",
    "with open(\"create_table_schema.sql\", \"w\") as f:\n",
    "    f.write(\"CREATE TABLE cleaned_data (\\n\")\n",
    "    for column in df_cleaned.columns:\n",
    "        f.write(f\"    {column} TEXT,\\n\")  # Adjust data type as needed\n",
    "    f.write(\");\")\n"
   ]
  },
  {
   "cell_type": "code",
   "execution_count": 26,
   "metadata": {},
   "outputs": [
    {
     "data": {
      "text/html": [
       "<div>\n",
       "<style scoped>\n",
       "    .dataframe tbody tr th:only-of-type {\n",
       "        vertical-align: middle;\n",
       "    }\n",
       "\n",
       "    .dataframe tbody tr th {\n",
       "        vertical-align: top;\n",
       "    }\n",
       "\n",
       "    .dataframe thead th {\n",
       "        text-align: right;\n",
       "    }\n",
       "</style>\n",
       "<table border=\"1\" class=\"dataframe\">\n",
       "  <thead>\n",
       "    <tr style=\"text-align: right;\">\n",
       "      <th></th>\n",
       "      <th>incident_date</th>\n",
       "      <th>min_delay</th>\n",
       "      <th>min_gap</th>\n",
       "      <th>delayType</th>\n",
       "    </tr>\n",
       "  </thead>\n",
       "  <tbody>\n",
       "    <tr>\n",
       "      <th>count</th>\n",
       "      <td>18935</td>\n",
       "      <td>18935.000000</td>\n",
       "      <td>18935.000000</td>\n",
       "      <td>18935.000000</td>\n",
       "    </tr>\n",
       "    <tr>\n",
       "      <th>mean</th>\n",
       "      <td>2023-11-19 01:43:11.961975040</td>\n",
       "      <td>16.263692</td>\n",
       "      <td>25.286929</td>\n",
       "      <td>2.120201</td>\n",
       "    </tr>\n",
       "    <tr>\n",
       "      <th>min</th>\n",
       "      <td>2023-01-01 00:00:00</td>\n",
       "      <td>1.000000</td>\n",
       "      <td>0.000000</td>\n",
       "      <td>1.000000</td>\n",
       "    </tr>\n",
       "    <tr>\n",
       "      <th>25%</th>\n",
       "      <td>2023-06-13 00:00:00</td>\n",
       "      <td>8.000000</td>\n",
       "      <td>16.000000</td>\n",
       "      <td>2.000000</td>\n",
       "    </tr>\n",
       "    <tr>\n",
       "      <th>50%</th>\n",
       "      <td>2023-11-25 00:00:00</td>\n",
       "      <td>10.000000</td>\n",
       "      <td>20.000000</td>\n",
       "      <td>2.000000</td>\n",
       "    </tr>\n",
       "    <tr>\n",
       "      <th>75%</th>\n",
       "      <td>2024-04-18 00:00:00</td>\n",
       "      <td>14.000000</td>\n",
       "      <td>23.000000</td>\n",
       "      <td>2.000000</td>\n",
       "    </tr>\n",
       "    <tr>\n",
       "      <th>max</th>\n",
       "      <td>2024-09-30 00:00:00</td>\n",
       "      <td>283.000000</td>\n",
       "      <td>789.000000</td>\n",
       "      <td>3.000000</td>\n",
       "    </tr>\n",
       "    <tr>\n",
       "      <th>std</th>\n",
       "      <td>NaN</td>\n",
       "      <td>21.685133</td>\n",
       "      <td>23.699371</td>\n",
       "      <td>0.557766</td>\n",
       "    </tr>\n",
       "  </tbody>\n",
       "</table>\n",
       "</div>"
      ],
      "text/plain": [
       "                       incident_date     min_delay       min_gap     delayType\n",
       "count                          18935  18935.000000  18935.000000  18935.000000\n",
       "mean   2023-11-19 01:43:11.961975040     16.263692     25.286929      2.120201\n",
       "min              2023-01-01 00:00:00      1.000000      0.000000      1.000000\n",
       "25%              2023-06-13 00:00:00      8.000000     16.000000      2.000000\n",
       "50%              2023-11-25 00:00:00     10.000000     20.000000      2.000000\n",
       "75%              2024-04-18 00:00:00     14.000000     23.000000      2.000000\n",
       "max              2024-09-30 00:00:00    283.000000    789.000000      3.000000\n",
       "std                              NaN     21.685133     23.699371      0.557766"
      ]
     },
     "execution_count": 26,
     "metadata": {},
     "output_type": "execute_result"
    }
   ],
   "source": [
    "df_cleaned.describe()"
   ]
  },
  {
   "cell_type": "code",
   "execution_count": 27,
   "metadata": {},
   "outputs": [
    {
     "name": "stdout",
     "output_type": "stream",
     "text": [
      "Column 'delayType' is currently numerical (datatype) with 3 unique values.\n"
     ]
    }
   ],
   "source": [
    "# Select columns that are numeric and might be categorical\n",
    "potential_categorical_columns = df_cleaned.select_dtypes(include=['int64', 'float64']).columns\n",
    "\n",
    "# Identify columns with a limited number of unique values\n",
    "for col in potential_categorical_columns:\n",
    "    unique_values = df[col].nunique()\n",
    "    if unique_values < 10:  # Assuming columns with fewer than 10 unique values might be categorical\n",
    "        print(f\"Column '{col}' is currently numerical (datatype) with {unique_values} unique values.\")"
   ]
  },
  {
   "cell_type": "code",
   "execution_count": 28,
   "metadata": {},
   "outputs": [],
   "source": [
    "# Drop the following columns: incident_date, incident_time, min_gap, lineID. min_delay\n",
    "df_cleaned = df.drop(['incident_date','incident_time', 'min_gap'], axis=1)\n"
   ]
  },
  {
   "cell_type": "code",
   "execution_count": 29,
   "metadata": {},
   "outputs": [
    {
     "name": "stdout",
     "output_type": "stream",
     "text": [
      "delayType\n",
      "2    12771\n",
      "3     4270\n",
      "1     1944\n",
      "Name: count, dtype: int64\n"
     ]
    }
   ],
   "source": [
    "# Check the distribution of delayType\n",
    "print(df_cleaned['delayType'].value_counts())"
   ]
  },
  {
   "cell_type": "code",
   "execution_count": 30,
   "metadata": {},
   "outputs": [
    {
     "name": "stderr",
     "output_type": "stream",
     "text": [
      "\n",
      "\n",
      "Passing `palette` without assigning `hue` is deprecated and will be removed in v0.14.0. Assign the `x` variable to `hue` and set `legend=False` for the same effect.\n",
      "\n"
     ]
    },
    {
     "data": {
      "image/png": "[encoded data removed]",
      "text/plain": [
       "<Figure size 1000x600 with 1 Axes>"
      ]
     },
     "metadata": {},
     "output_type": "display_data"
    }
   ],
   "source": [
    "# Visualize this with a whisker plot:\n",
    "delay_type_counts = df_cleaned['delayType'].value_counts()\n",
    "\n",
    "plt.figure(figsize=(10, 6))\n",
    "sns.barplot(x=delay_type_counts.index, y=delay_type_counts.values, palette='viridis')\n",
    "plt.title('Distribution of Delay Types')\n",
    "plt.xlabel('Delay Type')\n",
    "plt.ylabel('Count')\n",
    "plt.show()\n"
   ]
  },
  {
   "cell_type": "code",
   "execution_count": 32,
   "metadata": {},
   "outputs": [],
   "source": [
    "# Define X and y: \n",
    "X = df_cleaned.drop(columns=['min_delay', 'lineName', 'delayType']) \n",
    "y = df_cleaned['delayType']"
   ]
  },
  {
   "cell_type": "markdown",
   "metadata": {},
   "source": [
    "# PAUSE HERE - TO CONTINUE AFTER LUNCH"
   ]
  },
  {
   "cell_type": "code",
   "execution_count": null,
   "metadata": {},
   "outputs": [],
   "source": []
  },
  {
   "cell_type": "code",
   "execution_count": null,
   "metadata": {},
   "outputs": [],
   "source": []
  },
  {
   "cell_type": "code",
   "execution_count": null,
   "metadata": {},
   "outputs": [],
   "source": [
    "# Split the data into training and test sets\n",
    "X_train, X_test, y_train, y_test = train_test_split(X, y, test_size=0.2, random_state=42)"
   ]
  },
  {
   "cell_type": "code",
   "execution_count": null,
   "metadata": {},
   "outputs": [],
   "source": [
    "# Plotting Optimal Max Depth vs Balanced Accuracy\n",
    "max_depth_range = range(1, 26)\n",
    "balanced_accuracy_depth = []\n",
    "balanced_accuracy_depth.clear()  # Clear any previous results before starting\n",
    "\n",
    "for max_depth in max_depth_range:\n",
    "    rf_temp = RandomForestClassifier(max_depth=max_depth, random_state=42)\n",
    "    scores = cross_val_score(rf_temp, X_train, y_train, cv=5, scoring='balanced_accuracy')\n",
    "    mean_score = scores.mean()\n",
    "    balanced_accuracy_depth.append(mean_score)\n",
    "\n",
    "plt.figure(figsize=(10, 6))\n",
    "plt.plot(max_depth_range, balanced_accuracy_depth, label=\"RandomForestClassifier\", marker='o')\n",
    "plt.title(\"Optimal Max Depth vs. Balanced Accuracy for RandomForestClassifier\")\n",
    "plt.xlabel(\"Max Depth\")\n",
    "plt.ylabel(\"Balanced Accuracy\")\n",
    "plt.legend()\n",
    "plt.show()"
   ]
  },
  {
   "cell_type": "markdown",
   "metadata": {},
   "source": [
    "*Observation:*\n",
    "\n",
    "- Moving max depth value 2 to 25 doesn't yield any significant improvement (from 33.4% balanced accuracy to 34.2% balanced accuracy. Barely 1%). \n",
    "\n",
    "- Note: The graph has a signfiicantly narrow y range, making it look like there's a significant increment but there isn't. \n",
    "\n",
    "- We choose max depth value = 5 to minimize nonbeneficial computational costs. "
   ]
  },
  {
   "cell_type": "code",
   "execution_count": null,
   "metadata": {},
   "outputs": [],
   "source": [
    "# Finding Optimal Number of Trees for RandomForestClassifier\n",
    "rf_temp = RandomForestClassifier(random_state=42, max_depth=5)  # Set max_depth to the previously found optimal value\n",
    "balanced_accuracy_estimators = []\n",
    "n_estimators = [5, 50, 100, 150, 200, 250]\n",
    "\n",
    "balanced_accuracy_estimators.clear()  # Clear any previous results before starting\n",
    "\n",
    "# Iterate over the n_estimators range\n",
    "for n_estimator in n_estimators:\n",
    "    rf_temp.set_params(n_estimators=n_estimator)  # Set the current number of estimators\n",
    "    scores = cross_val_score(rf_temp, X_train, y_train, cv=5, scoring='balanced_accuracy')\n",
    "    mean_score = scores.mean()\n",
    "    balanced_accuracy_estimators.append(mean_score)\n",
    "\n",
    "# Plot n_estimators vs. Balanced Accuracy for RandomForestClassifier\n",
    "plt.figure(figsize=(10, 6))\n",
    "plt.plot(n_estimators, balanced_accuracy_estimators, label=\"RandomForestClassifier\", marker='o')\n",
    "plt.title(\"Number of Trees vs. Balanced Accuracy for RandomForestClassifier\")\n",
    "plt.xlabel(\"Number of Trees (n_estimators)\")\n",
    "plt.ylabel(\"Cross-Validated Balanced Accuracy\")\n",
    "plt.legend()\n",
    "plt.show()\n"
   ]
  },
  {
   "cell_type": "markdown",
   "metadata": {},
   "source": [
    "*Observation:*\n",
    "\n",
    "- Note: The graph has a signfiicantly narrow y range, barely 1%, making it look like there's a significant increment but there isn't. \n",
    "\n",
    "- The graph is indicating that more 'n' number of trees, the worse the model is. But there barely is a 1% change (33.35% to 33.34%). \n",
    "\n",
    "- We choose number of trees = 20 to minimize nonbeneficial computational costs. \n"
   ]
  },
  {
   "cell_type": "code",
   "execution_count": null,
   "metadata": {},
   "outputs": [],
   "source": [
    "'''\n",
    "# Finding Optimal Parameters for RandomForestClassifier using RandomizedSearchCV\n",
    "rf = RandomForestClassifier(random_state=42)\n",
    "param_dist = {\n",
    "    'n_estimators': [50, 100, 150, 200, 250],\n",
    "    'max_depth': range(1, 21),\n",
    "    'min_samples_split': [2, 5, 10, 20],\n",
    "    'min_samples_leaf': [1, 2, 5, 10]\n",
    "}\n",
    "'''"
   ]
  },
  {
   "cell_type": "code",
   "execution_count": null,
   "metadata": {},
   "outputs": [],
   "source": [
    "'''\n",
    "random_search = RandomizedSearchCV(rf, param_distributions=param_dist, n_iter=20, cv=5, scoring='balanced_accuracy', random_state=42)\n",
    "random_search.fit(X_train, y_train)\n",
    "'''"
   ]
  },
  {
   "cell_type": "code",
   "execution_count": null,
   "metadata": {},
   "outputs": [],
   "source": [
    "'''\n",
    "# Extract the best parameters and model\n",
    "best_rf_params = random_search.best_params_\n",
    "best_rf_model = random_search.best_estimator_\n",
    "\n",
    "# Print the best parameters found\n",
    "print(\"Best Parameters for RandomForestClassifier (RandomizedSearchCV):\")\n",
    "print(best_rf_params)\n",
    "'''"
   ]
  },
  {
   "cell_type": "code",
   "execution_count": null,
   "metadata": {},
   "outputs": [],
   "source": [
    "'''\n",
    "# Finding Optimal Parameters for RandomForestClassifier using Bayesian Optimization\n",
    "rf_bayes = RandomForestClassifier(random_state=42)\n",
    "param_space = {\n",
    "    'n_estimators': (200, 300),\n",
    "    'max_depth': (15, 25),\n",
    "    'min_samples_split': (2, 5),\n",
    "    'min_samples_leaf': (1, 3)\n",
    "}\n",
    "'''\n"
   ]
  },
  {
   "cell_type": "code",
   "execution_count": null,
   "metadata": {},
   "outputs": [],
   "source": [
    "'''\n",
    "bayes_search = BayesSearchCV(rf_bayes, search_spaces=param_space, n_iter=20, cv=5, scoring='balanced_accuracy', random_state=42)\n",
    "bayes_search.fit(X_train, y_train)\n",
    "'''"
   ]
  },
  {
   "cell_type": "code",
   "execution_count": null,
   "metadata": {},
   "outputs": [],
   "source": [
    "'''\n",
    "bayes_search = BayesSearchCV(rf_bayes, search_spaces=param_space, n_iter=20, cv=5, scoring='balanced_accuracy', random_state=42)\n",
    "bayes_search.fit(X_train, y_train)\n",
    "'''"
   ]
  },
  {
   "cell_type": "code",
   "execution_count": null,
   "metadata": {},
   "outputs": [],
   "source": [
    "'''\n",
    "# Extract the best parameters and model for Bayesian Optimization\n",
    "best_rf_bayes_params = bayes_search.best_params_\n",
    "best_rf_bayes_model = bayes_search.best_estimator_\n",
    "\n",
    "# Print the best parameters found for Bayesian Optimization\n",
    "print(\"Best Parameters for RandomForestClassifier (Bayesian Optimization):\")\n",
    "print(best_rf_bayes_params)\n",
    "'''"
   ]
  },
  {
   "cell_type": "code",
   "execution_count": null,
   "metadata": {},
   "outputs": [],
   "source": [
    "'''\n",
    "*Comment:*\n",
    "\n",
    "### In Theory: \n",
    "- In theory, the Randomized Search CV is the 'industry practice' for finding optimal parameters before hyperparameter-tuning the model further with Bayesian Optimization. \n",
    "- The Randomized Searched CV produces 'global optimal' parameters for the Random Forest Classifier as 250 trees, and max-depth value of 20. On my laptop, it ran for almost 10 minutes. \n",
    "\n",
    "### In Practice: \n",
    "- However, as we saw on the earlier graphs: this significant increment in numbers of trees and max-depth values will contribute very little to the model's performance - barely 1% improvement - but will only tax the computational costs. \n",
    "\n",
    "### Verdict: \n",
    "- The optimal parameters choice is one that is efficient and fast. We also want to avoid underfitting with such a low set of values, as well as avoid overfitting with large values. Therefore, we will choose max-depth value of 5, and 'n' number of trees to be 20. \n",
    "'''"
   ]
  },
  {
   "cell_type": "code",
   "execution_count": null,
   "metadata": {},
   "outputs": [],
   "source": [
    "# Define the parameter grid\n",
    "param_grid = {\n",
    "    'n_estimators': [10, 15, 20], # testing different numbers of trees in the forest: 50 trees, 100 trees, 200 trees. \n",
    "    'max_depth': [1, 5, 10], # preventing overfitting by limiting how deep the trees can grow: max 10 levels, 20 levels, 30 levels. \n",
    "    'min_samples_split': [2, 5, 10], # further reducing overfitting, by controlling the growth of the trees, by specifying the minimum number of samples required to split an internal node: allowing split even if only 2 samples are present, 5 samples are present, 10 samples are present. \n",
    "    'min_samples_leaf': [1, 2, 4] # further reducing overfitting, by controlling the size of the tree, by determining the minimum number of samples required to be at a leaf node: allowing leaves to contain 1 sample, 2 samples, 4 samples. \n",
    "}\n"
   ]
  },
  {
   "cell_type": "code",
   "execution_count": null,
   "metadata": {},
   "outputs": [],
   "source": [
    "# Initialize the Random Forest Classifier\n",
    "clf = RandomForestClassifier(random_state=42)\n",
    "\n",
    "# Initialize GridSearchCV\n",
    "grid_search = GridSearchCV(\n",
    "                    estimator=clf, # select \"clf\" (Random Forest Classifier - defined above) as the estimator. \n",
    "                    param_grid=param_grid, # defines the hyperparameters (defined in the cell above) and their possible values to be searched over. \n",
    "                    cv=5, # specifies the number of cross-validation folds to be used: 5. Ie. Split the data into 5 subsets, each taking turn as training set and validation set. The process is repeated 5 tiems. \n",
    "                    scoring='balanced_accuracy', # specifies the metric \"accuracy\" as the scoring metric to evaluate the model's performance. Accuracy is the ratio of correctly predicted instances to the total instances.\n",
    "                    n_jobs=-1) # tells GridSearchCV to use all available CPU cores for computation, speeding up the computation process.\n",
    "\n",
    "# Fit RandomizedSearchCV to the data\n",
    "grid_search.fit(X_train, y_train)\n",
    "\n",
    "# Print the best parameters\n",
    "print(\"Best parameters found: \", grid_search.best_params_)"
   ]
  },
  {
   "cell_type": "code",
   "execution_count": null,
   "metadata": {},
   "outputs": [],
   "source": [
    "best_params = {\n",
    "    'max_depth': 10,        # Value of max-depth\n",
    "    'min_samples_leaf': 2,  # Minimum number of samples required to be at a leaf node\n",
    "    'min_samples_split': 2,  # Minimum number of samples required to split an internal node\n",
    "    'n_estimators': 20,     # Number of trees in the forest  \n",
    "}\n",
    "\n",
    "# Initialize and fit the Random Forest Classifier with updated best parameters\n",
    "best_clf = RandomForestClassifier(**best_params, random_state=42)\n",
    "best_clf.fit(X_train, y_train)"
   ]
  },
  {
   "cell_type": "code",
   "execution_count": null,
   "metadata": {},
   "outputs": [],
   "source": [
    "# Fit the \n",
    "# clf.fit(X_train, y_train)\n",
    "\n",
    "\n",
    "# Initialize and fit the Random Forest Classifier with best parameters\n",
    "# best_clf = RandomForestClassifier(**best_params, random_state=42)\n",
    "# best_clf.fit(X_train, y_train)\n",
    "\n",
    "# Predicting the delay types using the trained model\n",
    "y_pred = best_clf.predict(X_test)\n"
   ]
  },
  {
   "cell_type": "code",
   "execution_count": null,
   "metadata": {},
   "outputs": [],
   "source": [
    "# Get the feature importances\n",
    "feature_importances = best_clf.feature_importances_\n",
    "\n",
    "# Use the feature names from the preprocessed data\n",
    "features = X.columns  # Get all the feature names from the DataFrame after preprocessing\n",
    "\n",
    "# Create a DataFrame for feature importances\n",
    "importance_df = pd.DataFrame({'Feature': features, 'Importance': feature_importances})\n",
    "\n",
    "# Sort the DataFrame by importance\n",
    "importance_df = importance_df.sort_values(by='Importance', ascending=False)\n",
    "\n",
    "print(importance_df)\n"
   ]
  },
  {
   "cell_type": "code",
   "execution_count": null,
   "metadata": {},
   "outputs": [],
   "source": [
    "# Run the evaluation on the model's performance with custom labels\n",
    "class_report = classification_report(y_test, y_pred)\n",
    "print(\"Classification Report:\\n\", class_report)"
   ]
  },
  {
   "cell_type": "code",
   "execution_count": null,
   "metadata": {},
   "outputs": [],
   "source": [
    "print(\"Training set class distribution:\")\n",
    "print(pd.Series(y_train).value_counts())\n",
    "\n",
    "print(\"\\nTest set class distribution:\")\n",
    "print(pd.Series(y_test).value_counts())\n"
   ]
  },
  {
   "cell_type": "code",
   "execution_count": null,
   "metadata": {},
   "outputs": [],
   "source": [
    "best_clf = RandomForestClassifier(**best_params, random_state=42, class_weight='balanced')\n",
    "best_clf.fit(X_train, y_train)\n"
   ]
  },
  {
   "cell_type": "code",
   "execution_count": null,
   "metadata": {},
   "outputs": [],
   "source": [
    "# Predicting the delay types using the trained model\n",
    "y_pred = best_clf.predict(X_test)"
   ]
  },
  {
   "cell_type": "code",
   "execution_count": null,
   "metadata": {},
   "outputs": [],
   "source": [
    "# Get the feature importances\n",
    "feature_importances = best_clf.feature_importances_\n",
    "\n",
    "# Use the feature names from the preprocessed data\n",
    "features = X.columns  # Get all the feature names from the DataFrame after preprocessing\n",
    "\n",
    "# Create a DataFrame for feature importances\n",
    "importance_df = pd.DataFrame({'Feature': features, 'Importance': feature_importances})\n",
    "\n",
    "# Sort the DataFrame by importance\n",
    "importance_df = importance_df.sort_values(by='Importance', ascending=False)\n",
    "\n",
    "print(importance_df)\n"
   ]
  },
  {
   "cell_type": "code",
   "execution_count": null,
   "metadata": {},
   "outputs": [],
   "source": [
    "# Run the evaluation on the model's performance with custom labels\n",
    "class_report = classification_report(y_test, y_pred)\n",
    "print(\"Classification Report:\\n\", class_report)"
   ]
  },
  {
   "cell_type": "code",
   "execution_count": null,
   "metadata": {},
   "outputs": [],
   "source": [
    "from sklearn.metrics import classification_report, balanced_accuracy_score\n",
    "\n",
    "# Generate the classification report\n",
    "class_report = classification_report(y_test, y_pred)\n",
    "print(\"Classification Report:\\n\", class_report)\n",
    "\n",
    "# Calculate and print the balanced accuracy score\n",
    "balanced_acc = balanced_accuracy_score(y_test, y_pred)\n",
    "print(f\"\\nBalanced Accuracy: {balanced_acc:.2f}\")\n"
   ]
  },
  {
   "cell_type": "code",
   "execution_count": null,
   "metadata": {},
   "outputs": [],
   "source": [
    "import shap\n",
    "\n",
    "# Create a SHAP explainer for the Random Forest model\n",
    "explainer = shap.TreeExplainer(best_clf)\n",
    "\n",
    "# Calculate SHAP values\n",
    "# For classifiers, shap_values is a list of arrays (one per class)\n",
    "shap_values = explainer.shap_values(X_test)\n"
   ]
  },
  {
   "cell_type": "code",
   "execution_count": null,
   "metadata": {},
   "outputs": [],
   "source": [
    "# SHAP values for delayType = 1\n",
    "shap_values_class1 = shap_values[0]\n",
    "\n",
    "# SHAP values for delayType = 2\n",
    "shap_values_class2 = shap_values[1]\n",
    "\n",
    "# SHAP values for delayType = 3\n",
    "shap_values_class3 = shap_values[2]\n"
   ]
  },
  {
   "cell_type": "code",
   "execution_count": null,
   "metadata": {},
   "outputs": [],
   "source": [
    "import matplotlib.pyplot as plt\n",
    "\n",
    "# Beeswarm plot for delayType = 1\n",
    "plt.figure()\n",
    "shap.summary_plot(shap_values_class1, X_test, plot_type=\"beeswarm\", show=False)\n",
    "plt.title(\"Feature Impact on Predictions for delayType = 1\")\n",
    "plt.show()\n",
    "\n",
    "# Beeswarm plot for delayType = 2\n",
    "plt.figure()\n",
    "shap.summary_plot(shap_values_class2, X_test, plot_type=\"beeswarm\", show=False)\n",
    "plt.title(\"Feature Impact on Predictions for delayType = 2\")\n",
    "plt.show()\n",
    "\n",
    "# Beeswarm plot for delayType = 3\n",
    "plt.figure()\n",
    "shap.summary_plot(shap_values_class3, X_test, plot_type=\"beeswarm\", show=False)\n",
    "plt.title(\"Feature Impact on Predictions for delayType = 3\")\n",
    "plt.show()\n"
   ]
  },
  {
   "cell_type": "code",
   "execution_count": null,
   "metadata": {},
   "outputs": [],
   "source": [
    "# Sample index for demonstration\n",
    "sample_index = 0\n",
    "\n",
    "# Waterfall plot for delayType = 1\n",
    "shap.waterfall_plot(shap.Explanation(values=shap_values_class1[sample_index],\n",
    "                                     base_values=explainer.expected_value[0],\n",
    "                                     data=X_test.iloc[sample_index],\n",
    "                                     feature_names=X_test.columns))\n"
   ]
  },
  {
   "cell_type": "code",
   "execution_count": null,
   "metadata": {},
   "outputs": [],
   "source": [
    "# Sample index for demonstration\n",
    "sample_index = 1\n",
    "\n",
    "# Waterfall plot for delayType = 1\n",
    "shap.waterfall_plot(shap.Explanation(values=shap_values_class1[sample_index],\n",
    "                                     base_values=explainer.expected_value[1],\n",
    "                                     data=X_test.iloc[sample_index],\n",
    "                                     feature_names=X_test.columns))\n"
   ]
  },
  {
   "cell_type": "code",
   "execution_count": null,
   "metadata": {},
   "outputs": [],
   "source": [
    "# Sample index for demonstration\n",
    "sample_index = 2\n",
    "\n",
    "# Waterfall plot for delayType = 1\n",
    "shap.waterfall_plot(shap.Explanation(values=shap_values_class1[sample_index],\n",
    "                                     base_values=explainer.expected_value[2],\n",
    "                                     data=X_test.iloc[sample_index],\n",
    "                                     feature_names=X_test.columns))\n"
   ]
  },
  {
   "cell_type": "code",
   "execution_count": null,
   "metadata": {},
   "outputs": [],
   "source": [
    "# Beeswarm plot for delayType = 1\n",
    "shap.summary_plot(shap_values[0], X_test, plot_type=\"beeswarm\")\n"
   ]
  },
  {
   "cell_type": "code",
   "execution_count": null,
   "metadata": {},
   "outputs": [],
   "source": [
    "for i, shap_val in enumerate(shap_values):\n",
    "    print(f\"SHAP values summary for class {i + 1}:\")\n",
    "    print(pd.DataFrame(shap_val, columns=X_test.columns).describe())\n"
   ]
  },
  {
   "cell_type": "code",
   "execution_count": null,
   "metadata": {},
   "outputs": [],
   "source": [
    "# Beeswarm plot for each delayType class\n",
    "for i in range(len(shap_values)):\n",
    "    plt.figure()\n",
    "    shap.summary_plot(shap_values[i], X_test, plot_type=\"beeswarm\")\n",
    "    plt.title(f\"Feature Impact on Predictions for delayType = {i + 1}\")\n",
    "    plt.show()\n"
   ]
  },
  {
   "cell_type": "code",
   "execution_count": null,
   "metadata": {},
   "outputs": [],
   "source": []
  },
  {
   "cell_type": "code",
   "execution_count": null,
   "metadata": {},
   "outputs": [],
   "source": []
  },
  {
   "cell_type": "code",
   "execution_count": null,
   "metadata": {},
   "outputs": [],
   "source": []
  },
  {
   "cell_type": "code",
   "execution_count": null,
   "metadata": {},
   "outputs": [],
   "source": []
  },
  {
   "cell_type": "code",
   "execution_count": null,
   "metadata": {},
   "outputs": [],
   "source": []
  },
  {
   "cell_type": "code",
   "execution_count": null,
   "metadata": {},
   "outputs": [],
   "source": []
  },
  {
   "cell_type": "markdown",
   "metadata": {},
   "source": [
    "**INTERPRETATION:**\n",
    "\n",
    "- **Accuracy:** **72%** of the predictions made by the model are correct.\n",
    "\n",
    "- **Precision, Recall, and F1-score (ie. the harmonic mean of precision and recall):** \n",
    "    - delayType 1 (Short Delay Time: <=5 minutes): This class **performs poorly** on the recall score (16%), with many actual delayType 1 instances are not being predicted as delayType 1. \n",
    "\n",
    "    - delayType 2 (Expected Delay Time: 6-15 minutes): This class **performs well** with high scores across precision (73%), recall (93%), and f1 (82%).\n",
    "       \n",
    "    - delayType 3 (Long Delay Time: over 15 minutes ): This class **performs poorly** on the recall score (35%), with many actual delayType 3 instances are not being predicted as delayType 3. \n",
    "\n"
   ]
  },
  {
   "cell_type": "markdown",
   "metadata": {},
   "source": [
    "# 2) Evaluation - Comment:\n",
    "\n",
    "Our predictive model gives acceptable performance on the accuracy score (72%) with 72% of the predictions made by this model are correct. \n",
    "\n",
    "The model also performs well for delayType 2 - the frequent delays type - across precision (73%), recall (93%) and F1 scores (82%). This class also significantly dominates the dataset. \n",
    "\n",
    "With these acceptable scores, we can rely on this model to achieve our business objective which is to find the most likely predictors of delay times, especially for the most frequently encountered delay type (delay between 6-15 minutes). \n",
    "\n",
    "For future studies, we recommend further analysis into other delay types - especially the Long Delay Type (delayType 3) for more targeted pre-emptive actions. \n",
    "\n",
    "\n",
    "\n",
    "    "
   ]
  },
  {
   "cell_type": "code",
   "execution_count": null,
   "metadata": {},
   "outputs": [],
   "source": [
    "# print features name\n",
    "print(X.columns)\n",
    "\n",
    "# print numbers of features to make sure they are correct\n",
    "print(f\"Number of features: {X.shape[1]}\")"
   ]
  },
  {
   "cell_type": "code",
   "execution_count": null,
   "metadata": {},
   "outputs": [],
   "source": [
    "# Filter for the top 20 most important features\n",
    "top_20_features = importance_df.sort_values(by='Importance', ascending=False).head(20)\n",
    "\n",
    "# Feature Importance Graph\n",
    "plt.figure(figsize=(12, 8))\n",
    "barplot = sns.barplot(x='Importance', y='Feature', data=top_20_features, palette='viridis')\n",
    "\n",
    "# Annotate the bar plot with the importance values\n",
    "for index, value in enumerate(top_20_features['Importance']):\n",
    "    barplot.text(value, index, f'{value:.2f}', color='black', ha=\"left\", va='center')\n",
    "\n",
    "plt.title('Top 20 Feature Importance Ranking')\n",
    "plt.xlabel('Importance')\n",
    "plt.ylabel('Feature')\n",
    "plt.show()\n"
   ]
  },
  {
   "cell_type": "code",
   "execution_count": null,
   "metadata": {},
   "outputs": [],
   "source": []
  },
  {
   "cell_type": "code",
   "execution_count": null,
   "metadata": {},
   "outputs": [],
   "source": []
  },
  {
   "cell_type": "markdown",
   "metadata": {},
   "source": []
  },
  {
   "cell_type": "code",
   "execution_count": null,
   "metadata": {},
   "outputs": [],
   "source": []
  },
  {
   "cell_type": "code",
   "execution_count": null,
   "metadata": {},
   "outputs": [],
   "source": []
  },
  {
   "cell_type": "code",
   "execution_count": null,
   "metadata": {},
   "outputs": [],
   "source": []
  },
  {
   "cell_type": "code",
   "execution_count": null,
   "metadata": {},
   "outputs": [],
   "source": []
  },
  {
   "cell_type": "code",
   "execution_count": null,
   "metadata": {},
   "outputs": [],
   "source": []
  },
  {
   "cell_type": "code",
   "execution_count": null,
   "metadata": {},
   "outputs": [],
   "source": [
    "''' \n",
    "# Define Base Models for Stacking\n",
    "rf_classifier = RandomForestClassifier(random_state=42, max_depth=10, n_estimators=100)\n",
    "xgb_classifier = XGBClassifier(use_label_encoder=False, eval_metric='logloss', random_state=42, max_depth=6, n_estimators=100, learning_rate=0.1)\n",
    "\n",
    "# Meta-Learner\n",
    "meta_learner = LogisticRegression()\n",
    "'''"
   ]
  },
  {
   "cell_type": "code",
   "execution_count": null,
   "metadata": {},
   "outputs": [],
   "source": [
    "'''\n",
    "# Stacking Classifier\n",
    "stacking_classifier = StackingClassifier(\n",
    "    estimators=[('rf', rf_classifier), ('xgb', xgb_classifier)],\n",
    "    final_estimator=meta_learner,\n",
    "    cv=5\n",
    ")\n",
    "'''"
   ]
  },
  {
   "cell_type": "code",
   "execution_count": null,
   "metadata": {},
   "outputs": [],
   "source": [
    "'''\n",
    "# Pipeline with Stacking Classifier\n",
    "stacking_pipeline = Pipeline([\n",
    "    ('preprocessor', preprocessor),\n",
    "    ('classifier', stacking_classifier)\n",
    "])\n",
    "'''"
   ]
  },
  {
   "cell_type": "code",
   "execution_count": null,
   "metadata": {},
   "outputs": [],
   "source": []
  },
  {
   "cell_type": "code",
   "execution_count": null,
   "metadata": {},
   "outputs": [],
   "source": []
  },
  {
   "cell_type": "code",
   "execution_count": null,
   "metadata": {},
   "outputs": [],
   "source": []
  },
  {
   "cell_type": "code",
   "execution_count": null,
   "metadata": {},
   "outputs": [],
   "source": []
  },
  {
   "cell_type": "code",
   "execution_count": null,
   "metadata": {},
   "outputs": [],
   "source": []
  },
  {
   "cell_type": "code",
   "execution_count": null,
   "metadata": {},
   "outputs": [],
   "source": [
    "# Preprocessor 1: Standard scaling + One-Hot Encoding\n",
    "preproc = ColumnTransformer([\n",
    "    ('num', StandardScaler(), numeric_features),                                \n",
    "    ('cat', OneHotEncoder(handle_unknown='ignore'), categorical_features)\n",
    "])\n",
    "\n",
    "\n",
    "\n"
   ]
  },
  {
   "cell_type": "code",
   "execution_count": null,
   "metadata": {},
   "outputs": [],
   "source": [
    "# Define baseline and advanced regressors\n",
    "bag_clf = RandomForestClassifier(random_state=42)\n",
    "boost_clf = XGBClassifier(random_state=42)"
   ]
  },
  {
   "cell_type": "code",
   "execution_count": null,
   "metadata": {},
   "outputs": [],
   "source": [
    "# Pipeline A - Random Forest Classifier\n",
    "pipeline_A = Pipeline([\n",
    "    ('preprocessing', preproc),\n",
    "    ('classifier', bag_clf)\n",
    "])"
   ]
  },
  {
   "cell_type": "code",
   "execution_count": null,
   "metadata": {},
   "outputs": [],
   "source": [
    "# Pipeline - XGBoost Classifier\n",
    "pipeline_B = Pipeline([\n",
    "    ('preprocessing', preproc),\n",
    "    ('classifier', boost_clf)\n",
    "])"
   ]
  },
  {
   "cell_type": "code",
   "execution_count": null,
   "metadata": {},
   "outputs": [],
   "source": [
    "# Finding Optimal max_depth for RandomForestClassifier\n",
    "max_depth_range = range(1, 21)\n",
    "rf_temp = RandomForestClassifier(random_state=42)\n",
    "errors_rf = []"
   ]
  },
  {
   "cell_type": "code",
   "execution_count": null,
   "metadata": {},
   "outputs": [],
   "source": [
    "for depth in max_depth_range:\n",
    "    rf_temp.set_params(max_depth=depth)\n",
    "    scores = cross_val_score(rf_temp, X_train, y_train, cv=5, scoring='accuracy')\n",
    "    mean_score = scores.mean()\n",
    "    errors_rf.append(mean_score)"
   ]
  },
  {
   "cell_type": "code",
   "execution_count": null,
   "metadata": {},
   "outputs": [],
   "source": [
    "# Plot max_depth vs. Accuracy for RandomForestClassifier\n",
    "plt.figure(figsize=(10, 6))\n",
    "plt.plot(max_depth_range, errors_rf, label=\"RandomForestClassifier\", marker='o')\n",
    "plt.title(\"Max Depth vs. Accuracy for RandomForestClassifier\")\n",
    "plt.xlabel(\"Max Depth\")\n",
    "plt.ylabel(\"Cross-Validated Accuracy\")\n",
    "plt.legend()\n",
    "plt.show()"
   ]
  },
  {
   "cell_type": "markdown",
   "metadata": {},
   "source": [
    "*Observation:*\n",
    "- Max depth is about less than 10 for the Random Forest Classifier."
   ]
  },
  {
   "cell_type": "code",
   "execution_count": null,
   "metadata": {},
   "outputs": [],
   "source": [
    "# Finding Optimal max_depth for XGBoost Classifier\n",
    "xgb_temp = XGBClassifier(use_label_encoder=False, eval_metric='logloss', random_state=42)\n",
    "xgb_max_depth_range = range(1, 21)\n",
    "errors_xgb = []"
   ]
  },
  {
   "cell_type": "code",
   "execution_count": null,
   "metadata": {},
   "outputs": [],
   "source": [
    "for depth in xgb_max_depth_range:\n",
    "    xgb_temp.set_params(max_depth=depth)\n",
    "    scores = cross_val_score(xgb_temp, X_train, y_train, cv=5, scoring='accuracy')\n",
    "    mean_score = scores.mean()\n",
    "    errors_xgb.append(mean_score)"
   ]
  },
  {
   "cell_type": "code",
   "execution_count": null,
   "metadata": {},
   "outputs": [],
   "source": []
  },
  {
   "cell_type": "code",
   "execution_count": null,
   "metadata": {},
   "outputs": [],
   "source": []
  },
  {
   "cell_type": "code",
   "execution_count": null,
   "metadata": {},
   "outputs": [],
   "source": []
  },
  {
   "cell_type": "code",
   "execution_count": null,
   "metadata": {},
   "outputs": [],
   "source": []
  },
  {
   "cell_type": "code",
   "execution_count": null,
   "metadata": {},
   "outputs": [],
   "source": []
  },
  {
   "cell_type": "code",
   "execution_count": null,
   "metadata": {},
   "outputs": [],
   "source": []
  },
  {
   "cell_type": "code",
   "execution_count": null,
   "metadata": {},
   "outputs": [],
   "source": []
  },
  {
   "cell_type": "code",
   "execution_count": null,
   "metadata": {},
   "outputs": [],
   "source": []
  },
  {
   "cell_type": "code",
   "execution_count": null,
   "metadata": {},
   "outputs": [],
   "source": []
  },
  {
   "cell_type": "code",
   "execution_count": null,
   "metadata": {},
   "outputs": [],
   "source": []
  },
  {
   "cell_type": "code",
   "execution_count": null,
   "metadata": {},
   "outputs": [],
   "source": []
  },
  {
   "cell_type": "code",
   "execution_count": null,
   "metadata": {},
   "outputs": [],
   "source": [
    "# Preprocessing and Pipeline Setup\n",
    "# Imputer and Scaler\n",
    "imputer = SimpleImputer(strategy='mean')\n",
    "scaler = StandardScaler()"
   ]
  },
  {
   "cell_type": "code",
   "execution_count": null,
   "metadata": {},
   "outputs": [],
   "source": [
    "# Finding Optimal Parameters for RandomForestClassifier\n",
    "rf_temp = RandomForestClassifier(random_state=42)\n",
    "max_depths = [None, 5, 10, 15, 20]\n",
    "n_estimators = [50, 100, 150, 200]"
   ]
  },
  {
   "cell_type": "code",
   "execution_count": null,
   "metadata": {},
   "outputs": [],
   "source": [
    "# Finding Optimal max_depth for RandomForestClassifier\n",
    "max_depth_range = range(1, 21)\n",
    "rf_temp = RandomForestClassifier(random_state=42)\n",
    "errors_rf = []\n",
    "\n"
   ]
  },
  {
   "cell_type": "code",
   "execution_count": null,
   "metadata": {},
   "outputs": [],
   "source": [
    "for depth in max_depth_range:\n",
    "    rf_temp.set_params(max_depth=depth)\n",
    "    scores = cross_val_score(rf_temp, X_train, y_train, cv=5, scoring='neg_mean_absolute_error')\n",
    "    mean_mae = -scores.mean()\n",
    "    errors_rf.append(mean_mae)\n",
    "\n"
   ]
  },
  {
   "cell_type": "code",
   "execution_count": null,
   "metadata": {},
   "outputs": [],
   "source": []
  },
  {
   "cell_type": "code",
   "execution_count": null,
   "metadata": {},
   "outputs": [],
   "source": []
  },
  {
   "cell_type": "code",
   "execution_count": null,
   "metadata": {},
   "outputs": [],
   "source": []
  },
  {
   "cell_type": "code",
   "execution_count": null,
   "metadata": {},
   "outputs": [],
   "source": []
  },
  {
   "cell_type": "code",
   "execution_count": null,
   "metadata": {},
   "outputs": [],
   "source": []
  },
  {
   "cell_type": "code",
   "execution_count": null,
   "metadata": {},
   "outputs": [],
   "source": []
  }
 ],
 "metadata": {
  "kernelspec": {
   "display_name": "DSI_participant",
   "language": "python",
   "name": "python3"
  },
  "language_info": {
   "codemirror_mode": {
    "name": "ipython",
    "version": 3
   },
   "file_extension": ".py",
   "mimetype": "text/x-python",
   "name": "python",
   "nbconvert_exporter": "python",
   "pygments_lexer": "ipython3",
   "version": "3.9.15"
  }
 },
 "nbformat": 4,
 "nbformat_minor": 2
}
