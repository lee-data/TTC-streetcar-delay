{
 "cells": [
  {
   "cell_type": "code",
   "execution_count": null,
   "metadata": {},
   "outputs": [],
   "source": []
  },
  {
   "cell_type": "code",
   "execution_count": null,
   "metadata": {},
   "outputs": [],
   "source": [
    "# Filter the DataFrame for min_delay values for thresholds\n",
    "df_delay_16_plus = df[df['min_delay'] >= 16]\n",
    "\n",
    "# Plot the histogram\n",
    "plt.figure(figsize=(10, 6))\n",
    "plt.hist(df_delay_16_plus['min_delay'], bins=100, color='skyblue', edgecolor='black')\n",
    "plt.title('Histogram of min_delay (above 15 minutes)')\n",
    "plt.xlabel('Delay in Minutes')\n",
    "plt.ylabel('Frequency')\n",
    "plt.show()\n"
   ]
  },
  {
   "cell_type": "code",
   "execution_count": null,
   "metadata": {},
   "outputs": [],
   "source": [
    "# Filter the DataFrame for min_delay values for thresholds\n",
    "df_delay_1_to_30 = df[(df['min_delay'] >= 1) & (df['min_delay'] <= 30)]\n",
    "\n",
    "# Plot the histogram\n",
    "plt.figure(figsize=(10, 6))\n",
    "plt.hist(df_delay_1_to_30['min_delay'], bins=30, color='skyblue', edgecolor='black')\n",
    "plt.title('Histogram of min_delay (1 minutes to 30 minutes)')\n",
    "plt.xlabel('Delay in Minutes')\n",
    "plt.ylabel('Frequency')\n",
    "plt.show()"
   ]
  },
  {
   "cell_type": "code",
   "execution_count": null,
   "metadata": {},
   "outputs": [],
   "source": [
    "# Filter the DataFrame for min_delay values for thresholds\n",
    "df_delay_11_to_30 = df[(df['min_delay'] >= 11) & (df['min_delay'] <= 30)]\n",
    "\n",
    "# Plot the histogram\n",
    "plt.figure(figsize=(10, 6))\n",
    "plt.hist(df_delay_11_to_30['min_delay'], bins=30, color='skyblue', edgecolor='black')\n",
    "plt.title('Histogram of min_delay (11 minutes to 30 minutes)')\n",
    "plt.xlabel('Delay in Minutes')\n",
    "plt.ylabel('Frequency')\n",
    "plt.show()"
   ]
  },
  {
   "cell_type": "code",
   "execution_count": null,
   "metadata": {},
   "outputs": [],
   "source": [
    "# Filter the DataFrame for min_delay values for thresholds\n",
    "df_delay_31_to_60 = df[(df['min_delay'] >= 31) & (df['min_delay'] <= 60)]\n",
    "\n",
    "# Plot the histogram\n",
    "plt.figure(figsize=(10, 6))\n",
    "plt.hist(df_delay_31_to_60['min_delay'], bins=30, color='skyblue', edgecolor='black')\n",
    "plt.title('Histogram of min_delay (31 minutes to 60 minutes)')\n",
    "plt.xlabel('Delay in Minutes')\n",
    "plt.ylabel('Frequency')\n",
    "plt.show()"
   ]
  },
  {
   "cell_type": "code",
   "execution_count": null,
   "metadata": {},
   "outputs": [],
   "source": [
    "# Filter the DataFrame for min_delay values for thresholds\n",
    "df_delay_61_to_90 = df[(df['min_delay'] >= 61) & (df['min_delay'] <= 90)]\n",
    "\n",
    "# Plot the histogram\n",
    "plt.figure(figsize=(10, 6))\n",
    "plt.hist(df_delay_61_to_90['min_delay'], bins=30, color='skyblue', edgecolor='black')\n",
    "plt.title('Histogram of min_delay (61 MINUTES TO 90 MINUTES)')\n",
    "plt.xlabel('Delay in Minutes')\n",
    "plt.ylabel('Frequency')\n",
    "plt.show()"
   ]
  },
  {
   "cell_type": "code",
   "execution_count": null,
   "metadata": {},
   "outputs": [],
   "source": [
    "# Filter the DataFrame for min_delay values for thresholds\n",
    "df_delay_91_to_300 = df[(df['min_delay'] >= 91) & (df['min_delay'] <= 300)]\n",
    "\n",
    "# Plot the histogram\n",
    "plt.figure(figsize=(10, 6))\n",
    "plt.hist(df_delay_61_to_90['min_delay'], bins=30, color='skyblue', edgecolor='black')\n",
    "plt.title('Histogram of min_delay (91 MINUTES TO 300 MINUTES)')\n",
    "plt.xlabel('Delay in Minutes')\n",
    "plt.ylabel('Frequency')\n",
    "plt.show()"
   ]
  },
  {
   "cell_type": "code",
   "execution_count": null,
   "metadata": {},
   "outputs": [],
   "source": [
    "# Define the bins and labels for the categories\n",
    "bins = [0, 5, 10, 15, 20, 30, 60, float('inf')]\n",
    "labels = ['<= 5 minutes', '6 - 10 minutes', '11 - 15 minutes', '16 - 20 minutes', '21 - 30 minutes', '31 - 60 minutes', '>= 61 minutes']\n",
    "\n",
    "# Create a new column 'delay_category' to categorize 'min_delay' based on the specified bins\n",
    "df['delay_category'] = pd.cut(df['min_delay'], bins=bins, labels=labels, right=True)\n",
    "\n",
    "# Count the occurrences for each category\n",
    "bucket_counts = df['delay_category'].value_counts().sort_index()\n",
    "\n",
    "# Display the counts for each bucket\n",
    "print(bucket_counts)"
   ]
  },
  {
   "cell_type": "code",
   "execution_count": null,
   "metadata": {},
   "outputs": [],
   "source": [
    "# Filter the DataFrame for min_delay values for thresholds\n",
    "df_delay_16_to_60 = df[(df['min_delay'] >= 16) & (df['min_delay'] <= 60)]\n",
    "\n",
    "# Plot the histogram\n",
    "plt.figure(figsize=(10, 6))\n",
    "plt.hist(df_delay_16_to_60['min_delay'], bins=30, color='skyblue', edgecolor='black')\n",
    "plt.title('Histogram of min_delay (16 minutes to 1 hour)')\n",
    "plt.xlabel('Delay in Minutes')\n",
    "plt.ylabel('Frequency')\n",
    "plt.show()"
   ]
  },
  {
   "cell_type": "markdown",
   "metadata": {},
   "source": [
    "*Observation:*\n",
    "\n",
    "- Frequency drops from about 600 instances for 20-minute delays, to less than 300 instances for 30-minute delays, to about 100 instances for each of 40-minute delays, 50-minute delays, and 60 minute delays. "
   ]
  },
  {
   "cell_type": "code",
   "execution_count": null,
   "metadata": {},
   "outputs": [],
   "source": [
    "# Filter the DataFrame for min_delay values for thresholds\n",
    "df_delay_61_to_90 = df[(df['min_delay'] >= 61) & (df['min_delay'] <= 90)]\n",
    "\n",
    "# Plot the histogram\n",
    "plt.figure(figsize=(10, 6))\n",
    "plt.hist(df_delay_61_to_90['min_delay'], bins=30, color='skyblue', edgecolor='black')\n",
    "plt.title('Histogram of min_delay (1 to 1.5 hours)')\n",
    "plt.xlabel('Delay in Minutes')\n",
    "plt.ylabel('Frequency')\n",
    "plt.show()"
   ]
  },
  {
   "cell_type": "code",
   "execution_count": null,
   "metadata": {},
   "outputs": [],
   "source": [
    "# Filter the DataFrame for min_delay values for thresholds\n",
    "df_delay_above_90 = df[(df['min_delay'] >= 91)]\n",
    "\n",
    "# Plot the histogram\n",
    "plt.figure(figsize=(10, 6))\n",
    "plt.hist(df_delay_above_90['min_delay'], bins=30, color='skyblue', edgecolor='black')\n",
    "plt.title('Histogram of min_delay (above 1.5 hours)')\n",
    "plt.xlabel('Delay in Minutes')\n",
    "plt.ylabel('Frequency')\n",
    "plt.show()"
   ]
  },
  {
   "cell_type": "code",
   "execution_count": null,
   "metadata": {},
   "outputs": [],
   "source": [
    "# Filter the DataFrame for min_delay values for thresholds\n",
    "df_delay_above_300 = df[(df['min_delay'] >= 301)]\n",
    "\n",
    "# Plot the histogram\n",
    "plt.figure(figsize=(10, 6))\n",
    "plt.hist(df_delay_above_300['min_delay'], bins=30, color='skyblue', edgecolor='black')\n",
    "plt.title('Histogram of min_delay (above 5 hours)')\n",
    "plt.xlabel('Delay in Minutes')\n",
    "plt.ylabel('Frequency')\n",
    "plt.show()"
   ]
  },
  {
   "cell_type": "code",
   "execution_count": null,
   "metadata": {},
   "outputs": [],
   "source": [
    "# Create a new DataFrame with min_delay values of 61 minutes or more - for later studies\n",
    "df_delay_over_1hr = df[df['min_delay'] >= 61]\n",
    "\n",
    "# Display the new DataFrame\n",
    "df_delay_over_1hr.head()\n",
    "\n"
   ]
  },
  {
   "cell_type": "code",
   "execution_count": null,
   "metadata": {},
   "outputs": [],
   "source": []
  },
  {
   "cell_type": "code",
   "execution_count": null,
   "metadata": {},
   "outputs": [],
   "source": []
  },
  {
   "cell_type": "code",
   "execution_count": null,
   "metadata": {},
   "outputs": [],
   "source": []
  },
  {
   "cell_type": "code",
   "execution_count": null,
   "metadata": {},
   "outputs": [],
   "source": []
  },
  {
   "cell_type": "code",
   "execution_count": null,
   "metadata": {},
   "outputs": [],
   "source": []
  },
  {
   "cell_type": "code",
   "execution_count": null,
   "metadata": {},
   "outputs": [],
   "source": []
  },
  {
   "cell_type": "code",
   "execution_count": null,
   "metadata": {},
   "outputs": [],
   "source": []
  },
  {
   "cell_type": "code",
   "execution_count": null,
   "metadata": {},
   "outputs": [],
   "source": []
  }
 ],
 "metadata": {
  "language_info": {
   "name": "python"
  }
 },
 "nbformat": 4,
 "nbformat_minor": 2
}
