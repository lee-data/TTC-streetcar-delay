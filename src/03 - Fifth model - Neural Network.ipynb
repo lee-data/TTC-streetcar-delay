{
 "cells": [
  {
   "cell_type": "markdown",
   "metadata": {},
   "source": [
    "<center>\n",
    "\n",
    "# **PREDICTIVE METHOD**<br>\n",
    "# **NEURAL NETWORK**<br>\n",
    "\n",
    "by: Ly Nguyen\n",
    "\n",
    "</center>\n"
   ]
  },
  {
   "cell_type": "code",
   "execution_count": 1,
   "metadata": {},
   "outputs": [
    {
     "name": "stderr",
     "output_type": "stream",
     "text": [
      "IProgress not found. Please update jupyter and ipywidgets. See https://ipywidgets.readthedocs.io/en/stable/user_install.html\n"
     ]
    }
   ],
   "source": [
    "# Import necessary libraries for this notebook: \n",
    "\n",
    "# Read from SQLite database and load to a pandas dataframe\n",
    "import os\n",
    "import sqlite3\n",
    "import pandas as pd\n",
    "\n",
    "# For using arrays \n",
    "import numpy as np\n",
    "\n",
    "# For ML work (data preprocessing, hyperparameter tuning, Random Forest Classifier, training & testing sets, and stratified sampling)\n",
    "from sklearn.model_selection import train_test_split\n",
    "from sklearn.preprocessing import OneHotEncoder \n",
    "from sklearn.model_selection import GridSearchCV\n",
    "from sklearn.ensemble import RandomForestClassifier\n",
    "from sklearn.model_selection import StratifiedKFold\n",
    "from sklearn.model_selection import cross_val_score\n",
    "from sklearn.utils.class_weight import compute_class_weight\n",
    "\n",
    "\n",
    "\n",
    "# For model evaluation, including explainability:  \n",
    "from sklearn.metrics import accuracy_score, precision_score, recall_score, f1_score\n",
    "from sklearn.metrics import classification_report, balanced_accuracy_score, make_scorer\n",
    "from sklearn.utils.class_weight import compute_class_weight\n",
    "import statsmodels.api as sm\n",
    "import shap\n",
    "\n",
    "# For data visualization \n",
    "import matplotlib.pyplot as plt\n",
    "import seaborn as sns\n",
    "\n",
    "# For saving the model into a pkl file\n",
    "import joblib\n",
    "\n"
   ]
  },
  {
   "cell_type": "code",
   "execution_count": 2,
   "metadata": {},
   "outputs": [],
   "source": [
    "from tensorflow.keras.models import Sequential\n",
    "from tensorflow.keras.layers import Dense, Dropout\n",
    "from tensorflow.keras.optimizers import Adam\n",
    "from tensorflow.keras.utils import to_categorical\n",
    "import keras_tuner as kt"
   ]
  },
  {
   "cell_type": "code",
   "execution_count": 3,
   "metadata": {},
   "outputs": [],
   "source": [
    "# Load the saved df_prelim parquet file: \n",
    "relative_path = os.path.join(\"..\", \"src\", \"df_reduced.parquet\")\n",
    "df_reduced = pd.read_parquet(relative_path)"
   ]
  },
  {
   "cell_type": "code",
   "execution_count": 4,
   "metadata": {},
   "outputs": [],
   "source": [
    "# Define X and y:\n",
    "X = df_reduced.drop(columns=['delayType'])  # Use parentheses with the 'columns' argument\n",
    "y = df_reduced['delayType']\n"
   ]
  },
  {
   "cell_type": "code",
   "execution_count": 5,
   "metadata": {},
   "outputs": [],
   "source": [
    "# Perform stratified split\n",
    "X_train, X_temp, y_train, y_temp = train_test_split(X, y, test_size=0.3, stratify=y, random_state=42)\n",
    "\n",
    "X_val, X_test, y_val, y_test = train_test_split(X_temp, y_temp, test_size=0.5, stratify=y_temp, random_state=42)\n"
   ]
  },
  {
   "cell_type": "code",
   "execution_count": 6,
   "metadata": {},
   "outputs": [],
   "source": [
    "# One-hot encode the target for neural network\n",
    "y_train_encoded = to_categorical(y_train - 1)  # Zero-indexed for NN\n",
    "y_val_encoded = to_categorical(y_val - 1)\n",
    "y_test_encoded = to_categorical(y_test - 1)"
   ]
  },
  {
   "cell_type": "markdown",
   "metadata": {},
   "source": [
    "# Hyperparameter tuning"
   ]
  },
  {
   "cell_type": "code",
   "execution_count": 7,
   "metadata": {},
   "outputs": [
    {
     "name": "stdout",
     "output_type": "stream",
     "text": [
      "Class weights: {0: 3.1258878275777615, 1: 0.4759294477383749, 2: 1.7272973338746787}\n"
     ]
    }
   ],
   "source": [
    "# Compute class weights\n",
    "class_weights = compute_class_weight(class_weight='balanced',\n",
    "                                     classes=np.unique(y_train),\n",
    "                                     y=y_train)\n",
    "class_weights = dict(enumerate(class_weights))\n",
    "print(\"Class weights:\", class_weights)"
   ]
  },
  {
   "cell_type": "code",
   "execution_count": 8,
   "metadata": {},
   "outputs": [],
   "source": [
    "def build_model(hp):\n",
    "    model = Sequential()\n",
    "    model.add(Dense(hp.Int('units', min_value=64, max_value=256, step=64),\n",
    "                    activation='relu', input_shape=(X_train.shape[1],)))\n",
    "    model.add(Dropout(hp.Float('dropout', 0.1, 0.5, step=0.1)))\n",
    "    model.add(Dense(64, activation='relu'))\n",
    "    model.add(Dense(3, activation='softmax'))\n",
    "    model.compile(optimizer=Adam(learning_rate=hp.Choice('learning_rate', [0.001, 0.0001])),\n",
    "                  loss='categorical_crossentropy',\n",
    "                  metrics=['accuracy'])\n",
    "    return model\n",
    "\n"
   ]
  },
  {
   "cell_type": "code",
   "execution_count": 9,
   "metadata": {},
   "outputs": [
    {
     "name": "stdout",
     "output_type": "stream",
     "text": [
      "Reloading Tuner from .\\untitled_project\\tuner0.json\n"
     ]
    }
   ],
   "source": [
    "tuner = kt.Hyperband(build_model, \n",
    "                     objective='val_accuracy', \n",
    "                     max_epochs=30, \n",
    "                     factor=3)\n",
    "\n",
    "# Hyperparameter search\n",
    "tuner.search(X_train, y_train_encoded, \n",
    "             validation_data=(X_val, y_val_encoded), \n",
    "             class_weight=class_weights)\n",
    "\n",
    "# Retrieve the best model\n",
    "best_hps = tuner.get_best_hyperparameters(num_trials=1)[0]\n",
    "best_model = tuner.hypermodel.build(best_hps)\n"
   ]
  },
  {
   "cell_type": "markdown",
   "metadata": {},
   "source": [
    "# Fitting the model"
   ]
  },
  {
   "cell_type": "code",
   "execution_count": 10,
   "metadata": {},
   "outputs": [
    {
     "name": "stdout",
     "output_type": "stream",
     "text": [
      "Epoch 1/30\n",
      "399/399 [==============================] - 2s 3ms/step - loss: 0.9256 - accuracy: 0.4913 - val_loss: 0.9287 - val_accuracy: 0.5170\n",
      "Epoch 2/30\n",
      "399/399 [==============================] - 1s 3ms/step - loss: 0.8355 - accuracy: 0.5489 - val_loss: 0.9153 - val_accuracy: 0.5499\n",
      "Epoch 3/30\n",
      "399/399 [==============================] - 1s 2ms/step - loss: 0.8015 - accuracy: 0.5727 - val_loss: 0.8805 - val_accuracy: 0.5686\n",
      "Epoch 4/30\n",
      "399/399 [==============================] - 1s 2ms/step - loss: 0.7859 - accuracy: 0.5879 - val_loss: 0.8859 - val_accuracy: 0.5689\n",
      "Epoch 5/30\n",
      "399/399 [==============================] - 2s 4ms/step - loss: 0.7704 - accuracy: 0.5847 - val_loss: 0.9225 - val_accuracy: 0.5371\n",
      "Epoch 6/30\n",
      "399/399 [==============================] - 2s 4ms/step - loss: 0.7540 - accuracy: 0.5898 - val_loss: 0.8986 - val_accuracy: 0.5488\n",
      "Epoch 7/30\n",
      "399/399 [==============================] - 1s 2ms/step - loss: 0.7494 - accuracy: 0.5965 - val_loss: 0.9229 - val_accuracy: 0.5521\n",
      "Epoch 8/30\n",
      "399/399 [==============================] - 1s 4ms/step - loss: 0.7354 - accuracy: 0.5941 - val_loss: 0.9264 - val_accuracy: 0.5371\n",
      "Epoch 9/30\n",
      "399/399 [==============================] - 1s 3ms/step - loss: 0.7274 - accuracy: 0.5972 - val_loss: 0.8308 - val_accuracy: 0.6069\n",
      "Epoch 10/30\n",
      "399/399 [==============================] - 1s 3ms/step - loss: 0.7167 - accuracy: 0.5959 - val_loss: 0.8562 - val_accuracy: 0.5854\n",
      "Epoch 11/30\n",
      "399/399 [==============================] - 1s 4ms/step - loss: 0.7105 - accuracy: 0.6025 - val_loss: 0.8456 - val_accuracy: 0.5967\n",
      "Epoch 12/30\n",
      "399/399 [==============================] - 1s 4ms/step - loss: 0.7005 - accuracy: 0.6016 - val_loss: 0.8316 - val_accuracy: 0.6022\n",
      "Epoch 13/30\n",
      "399/399 [==============================] - 1s 3ms/step - loss: 0.6950 - accuracy: 0.6053 - val_loss: 0.8566 - val_accuracy: 0.5927\n",
      "Epoch 14/30\n",
      "399/399 [==============================] - 1s 3ms/step - loss: 0.6841 - accuracy: 0.6118 - val_loss: 0.8408 - val_accuracy: 0.5952\n",
      "Epoch 15/30\n",
      "399/399 [==============================] - 1s 3ms/step - loss: 0.6777 - accuracy: 0.6107 - val_loss: 0.8865 - val_accuracy: 0.5634\n",
      "Epoch 16/30\n",
      "399/399 [==============================] - 1s 3ms/step - loss: 0.6625 - accuracy: 0.6214 - val_loss: 0.8437 - val_accuracy: 0.6084\n",
      "Epoch 17/30\n",
      "399/399 [==============================] - 1s 3ms/step - loss: 0.6607 - accuracy: 0.6220 - val_loss: 0.8857 - val_accuracy: 0.5623\n",
      "Epoch 18/30\n",
      "399/399 [==============================] - 1s 3ms/step - loss: 0.6546 - accuracy: 0.6184 - val_loss: 0.8768 - val_accuracy: 0.5704\n",
      "Epoch 19/30\n",
      "399/399 [==============================] - 1s 3ms/step - loss: 0.6465 - accuracy: 0.6287 - val_loss: 0.9121 - val_accuracy: 0.5598\n",
      "Epoch 20/30\n",
      "399/399 [==============================] - 1s 2ms/step - loss: 0.6403 - accuracy: 0.6325 - val_loss: 0.9204 - val_accuracy: 0.5437\n",
      "Epoch 21/30\n",
      "399/399 [==============================] - 1s 3ms/step - loss: 0.6326 - accuracy: 0.6330 - val_loss: 0.9171 - val_accuracy: 0.5697\n",
      "Epoch 22/30\n",
      "399/399 [==============================] - 1s 3ms/step - loss: 0.6348 - accuracy: 0.6295 - val_loss: 0.9496 - val_accuracy: 0.5444\n",
      "Epoch 23/30\n",
      "399/399 [==============================] - 1s 3ms/step - loss: 0.6305 - accuracy: 0.6357 - val_loss: 0.9050 - val_accuracy: 0.5817\n",
      "Epoch 24/30\n",
      "399/399 [==============================] - 1s 3ms/step - loss: 0.6138 - accuracy: 0.6414 - val_loss: 0.8780 - val_accuracy: 0.5927\n",
      "Epoch 25/30\n",
      "399/399 [==============================] - 1s 3ms/step - loss: 0.6153 - accuracy: 0.6387 - val_loss: 0.9033 - val_accuracy: 0.5828\n",
      "Epoch 26/30\n",
      "399/399 [==============================] - 1s 2ms/step - loss: 0.6063 - accuracy: 0.6446 - val_loss: 0.9011 - val_accuracy: 0.5927\n",
      "Epoch 27/30\n",
      "399/399 [==============================] - 2s 4ms/step - loss: 0.6079 - accuracy: 0.6437 - val_loss: 0.9378 - val_accuracy: 0.5740\n",
      "Epoch 28/30\n",
      "399/399 [==============================] - 1s 3ms/step - loss: 0.5981 - accuracy: 0.6509 - val_loss: 0.9035 - val_accuracy: 0.5733\n",
      "Epoch 29/30\n",
      "399/399 [==============================] - 1s 3ms/step - loss: 0.5939 - accuracy: 0.6538 - val_loss: 0.9548 - val_accuracy: 0.5711\n",
      "Epoch 30/30\n",
      "399/399 [==============================] - 1s 3ms/step - loss: 0.5884 - accuracy: 0.6542 - val_loss: 0.9268 - val_accuracy: 0.5762\n"
     ]
    }
   ],
   "source": [
    "history = best_model.fit(X_train, y_train_encoded,\n",
    "                         validation_data=(X_val, y_val_encoded),\n",
    "                         class_weight=class_weights,\n",
    "                         epochs=30,\n",
    "                         batch_size=32,\n",
    "                         verbose=1)\n"
   ]
  },
  {
   "cell_type": "code",
   "execution_count": 11,
   "metadata": {},
   "outputs": [
    {
     "name": "stdout",
     "output_type": "stream",
     "text": [
      "86/86 [==============================] - 0s 1ms/step\n"
     ]
    }
   ],
   "source": [
    "y_pred_proba = best_model.predict(X_test)\n",
    "y_pred = np.argmax(y_pred_proba, axis=1) + 1  # Convert back to original labels\n"
   ]
  },
  {
   "cell_type": "markdown",
   "metadata": {},
   "source": [
    "# Model Evaluation"
   ]
  },
  {
   "cell_type": "code",
   "execution_count": 12,
   "metadata": {},
   "outputs": [
    {
     "name": "stdout",
     "output_type": "stream",
     "text": [
      "              precision    recall  f1-score   support\n",
      "\n",
      "           1       0.33      0.62      0.43       292\n",
      "           2       0.84      0.54      0.65      1916\n",
      "           3       0.37      0.67      0.47       528\n",
      "\n",
      "    accuracy                           0.57      2736\n",
      "   macro avg       0.51      0.61      0.52      2736\n",
      "weighted avg       0.69      0.57      0.59      2736\n",
      "\n",
      "Balanced Accuracy: 60.68%\n"
     ]
    }
   ],
   "source": [
    "# Evaluation scores\n",
    "print(classification_report(y_test, y_pred))\n",
    "\n",
    "balanced_acc = balanced_accuracy_score(y_test, y_pred)\n",
    "print(f\"Balanced Accuracy: {balanced_acc * 100:.2f}%\")\n"
   ]
  },
  {
   "cell_type": "markdown",
   "metadata": {},
   "source": [
    "# **Observation:**\n",
    "- This 5th model performs worse than the 3rd model across the scores. \n",
    "- The 3rd model is the optimal one so far."
   ]
  }
 ],
 "metadata": {
  "kernelspec": {
   "display_name": "DSI_participant",
   "language": "python",
   "name": "python3"
  },
  "language_info": {
   "codemirror_mode": {
    "name": "ipython",
    "version": 3
   },
   "file_extension": ".py",
   "mimetype": "text/x-python",
   "name": "python",
   "nbconvert_exporter": "python",
   "pygments_lexer": "ipython3",
   "version": "3.9.15"
  }
 },
 "nbformat": 4,
 "nbformat_minor": 2
}
