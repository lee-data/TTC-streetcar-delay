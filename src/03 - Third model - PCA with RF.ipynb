{
 "cells": [
  {
   "cell_type": "markdown",
   "metadata": {},
   "source": [
    "<center>\n",
    "\n",
    "# **PREDICTIVE METHOD**<br>\n",
    "# **RANDOM FOREST CLASSIFIER - WITH PCA**<br>\n",
    "\n",
    "by: Ly Nguyen\n",
    "\n",
    "</center>\n"
   ]
  },
  {
   "cell_type": "code",
   "execution_count": 1,
   "metadata": {},
   "outputs": [
    {
     "name": "stderr",
     "output_type": "stream",
     "text": [
      "c:\\ProgramData\\miniconda3\\envs\\DSI_participant\\lib\\site-packages\\tqdm\\auto.py:21: TqdmWarning: IProgress not found. Please update jupyter and ipywidgets. See https://ipywidgets.readthedocs.io/en/stable/user_install.html\n",
      "  from .autonotebook import tqdm as notebook_tqdm\n"
     ]
    }
   ],
   "source": [
    "# Import necessary libraries for this notebook: \n",
    "\n",
    "# Read from SQLite database and load to a pandas dataframe\n",
    "import os\n",
    "import sqlite3\n",
    "import pandas as pd\n",
    "\n",
    "# For using arrays \n",
    "import numpy as np\n",
    "\n",
    "# For ML work (data preprocessing, hyperparameter tuning, Random Forest Classifier, training & testing sets, and stratified sampling)\n",
    "from sklearn.model_selection import train_test_split\n",
    "from sklearn.preprocessing import OneHotEncoder \n",
    "from sklearn.model_selection import GridSearchCV\n",
    "from sklearn.ensemble import RandomForestClassifier\n",
    "from sklearn.model_selection import StratifiedKFold\n",
    "from sklearn.model_selection import cross_val_score\n",
    "from sklearn.utils.class_weight import compute_class_weight\n",
    "\n",
    "\n",
    "# For Dimensionality Reduction\n",
    "from sklearn.decomposition import PCA\n",
    "import umap.umap_ as umap\n",
    "from sklearn.preprocessing import StandardScaler\n",
    "\n",
    "# For model evaluation, including explainability:  \n",
    "from sklearn.metrics import accuracy_score, precision_score, recall_score, f1_score\n",
    "from sklearn.metrics import classification_report, balanced_accuracy_score, make_scorer\n",
    "from sklearn.utils.class_weight import compute_class_weight\n",
    "import statsmodels.api as sm\n",
    "import shap\n",
    "\n",
    "# For data visualization \n",
    "import matplotlib.pyplot as plt\n",
    "import seaborn as sns\n",
    "\n",
    "# For saving the model into a pkl file\n",
    "import joblib\n",
    "\n"
   ]
  },
  {
   "cell_type": "code",
   "execution_count": 2,
   "metadata": {},
   "outputs": [],
   "source": [
    "# Load the saved df_prelim parquet file: \n",
    "relative_path = os.path.join(\"..\", \"src\", \"df_reduced.parquet\")\n",
    "df_reduced = pd.read_parquet(relative_path)"
   ]
  },
  {
   "cell_type": "code",
   "execution_count": 3,
   "metadata": {},
   "outputs": [],
   "source": [
    "# Define X and y:\n",
    "X = df_reduced.drop(columns=['delayType'])  # Use parentheses with the 'columns' argument\n",
    "y = df_reduced['delayType']\n"
   ]
  },
  {
   "cell_type": "markdown",
   "metadata": {},
   "source": [
    "### *STANDARD SCALE THE FEATURES*"
   ]
  },
  {
   "cell_type": "code",
   "execution_count": 4,
   "metadata": {},
   "outputs": [],
   "source": [
    "\n",
    "# Standardize the features for UMAP & PCA \n",
    "scaler = StandardScaler()\n",
    "X_scaled = scaler.fit_transform(X)"
   ]
  },
  {
   "cell_type": "markdown",
   "metadata": {},
   "source": [
    "### *PCA*"
   ]
  },
  {
   "cell_type": "code",
   "execution_count": 5,
   "metadata": {},
   "outputs": [
    {
     "name": "stdout",
     "output_type": "stream",
     "text": [
      "Cumulative Variance: [0.04079766 0.07287864 0.10322336 0.13222366 0.16013663 0.18609475\n",
      " 0.21149868 0.23675769 0.26160917 0.28581807 0.30985806 0.33361644\n",
      " 0.35733253 0.3805795  0.40368882 0.42659086 0.44931946 0.47174748\n",
      " 0.49384462 0.51578636 0.53739628 0.55866663 0.57979573 0.60065216\n",
      " 0.62117728 0.64135552 0.66144925 0.68145713 0.70140597 0.72123061\n",
      " 0.74100842 0.76063965 0.78022816 0.79969704 0.81868354]\n",
      "Number of components needed for 80% variance: 35\n"
     ]
    }
   ],
   "source": [
    "# Ensure PCA is performed with enough components\n",
    "pca = PCA(n_components=35)   \n",
    "X_pca = pca.fit_transform(X_scaled)\n",
    "\n",
    "# Recalculate cumulative explained variance\n",
    "cumulative_variance = pca.explained_variance_ratio_.cumsum()\n",
    "print(\"Cumulative Variance:\", cumulative_variance)\n",
    "\n",
    "# Find the number of components needed for 80% variance\n",
    "components_for_80 = (cumulative_variance >= 0.80).argmax() + 1\n",
    "print(f\"Number of components needed for 80% variance: {components_for_80}\")\n"
   ]
  },
  {
   "cell_type": "code",
   "execution_count": 6,
   "metadata": {},
   "outputs": [
    {
     "name": "stdout",
     "output_type": "stream",
     "text": [
      "Explained Variance Ratio for top components: [0.04079766 0.03208098 0.03034472 0.0290003  0.02791297 0.02595812\n",
      " 0.02540393 0.02525901 0.02485148 0.0242089  0.02403999 0.02375837\n",
      " 0.02371609 0.02324697 0.02310933 0.02290204 0.0227286  0.02242803\n",
      " 0.02209714 0.02194174 0.02160992 0.02127036 0.02112909 0.02085643\n",
      " 0.02052512 0.02017824 0.02009373 0.02000788 0.01994884 0.01982464\n",
      " 0.0197778  0.01963123 0.01958852 0.01946887 0.0189865 ]\n",
      "Total Variance Captured by top components: 0.818683535789138\n"
     ]
    }
   ],
   "source": [
    "# Perform PCA with [number] components\n",
    "pca = PCA(n_components=35)\n",
    "X_pca = pca.fit_transform(X_scaled)\n",
    "\n",
    "# Convert to DataFrame\n",
    "X_pca_df = pd.DataFrame(X_pca, columns=[f'PC{i+1}' for i in range(35)])\n",
    "\n",
    "# Save the transformed dataset\n",
    "X_pca_df.to_csv('pca_transformed_data_top_components.csv', index=False)\n",
    "\n",
    "# Print final variance\n",
    "explained_variance_ratio = pca.explained_variance_ratio_\n",
    "print(\"Explained Variance Ratio for top components:\", explained_variance_ratio)\n",
    "print(\"Total Variance Captured by top components:\", sum(explained_variance_ratio))\n"
   ]
  },
  {
   "cell_type": "code",
   "execution_count": 7,
   "metadata": {},
   "outputs": [],
   "source": [
    "# Stratified sampling to split the PCA-transformed data\n",
    "X_train_pca, X_test_pca, y_train_pca, y_test_pca = train_test_split(\n",
    "    X_pca_df, y, test_size=0.3, random_state=42, stratify=y\n",
    ")"
   ]
  },
  {
   "cell_type": "code",
   "execution_count": 8,
   "metadata": {},
   "outputs": [],
   "source": [
    "# Save the PCA transformed training & test sets\n",
    "X_train_pca.to_csv('X_train_pca.csv', index=False)\n",
    "X_test_pca.to_csv('X_test_pca.csv', index=False)\n",
    "y_train_pca.to_csv('y_train_pca.csv', index=False)\n",
    "y_test_pca.to_csv('y_test_pca.csv', index=False)\n"
   ]
  },
  {
   "cell_type": "code",
   "execution_count": 21,
   "metadata": {},
   "outputs": [
    {
     "name": "stdout",
     "output_type": "stream",
     "text": [
      "Fitting 5 folds for each of 54 candidates, totalling 270 fits\n",
      "Best Hyperparameters: {'max_depth': 10, 'min_samples_leaf': 4, 'min_samples_split': 10, 'n_estimators': 150}\n"
     ]
    }
   ],
   "source": [
    "\n",
    "\n",
    "# Apply balanced class weights on the training data\n",
    "class_weights = compute_class_weight(\n",
    "    class_weight='balanced',\n",
    "    classes=np.unique(y_train_pca),\n",
    "    y=y_train_pca\n",
    ")\n",
    "class_weight_dict = dict(zip(np.unique(y_train_pca), class_weights))\n",
    "\n",
    "# Define a Random Forest Classifier\n",
    "rf = RandomForestClassifier(random_state=42, class_weight=class_weight_dict)\n",
    "\n",
    "# Define hyperparameter grid for Random Forest tuning\n",
    "param_grid = {\n",
    "    'n_estimators': [50, 100, 150],\n",
    "    'max_depth': [10, 20],\n",
    "    'min_samples_split': [2, 5, 10],\n",
    "    'min_samples_leaf': [1, 2, 4],\n",
    "    }\n",
    "\n",
    "# Apply stratified sampling on cross-validation\n",
    "cv = StratifiedKFold(n_splits=5, shuffle=True, random_state=42)\n",
    "\n",
    "# Define a scorer for balanced accuracy\n",
    "scorer = make_scorer(balanced_accuracy_score)\n",
    "\n",
    "# GridSearchCV for hyperparameter tuning\n",
    "grid_search = GridSearchCV(\n",
    "    estimator=rf,\n",
    "    param_grid=param_grid,\n",
    "    scoring=scorer,\n",
    "    cv=cv,\n",
    "    n_jobs=-1,\n",
    "    verbose=2\n",
    ")\n",
    "\n",
    "# Fit the model on training data\n",
    "grid_search.fit(X_train_pca, y_train_pca)\n",
    "\n",
    "# Print the best hyperparameters\n",
    "print(\"Best Hyperparameters:\", grid_search.best_params_)\n"
   ]
  },
  {
   "cell_type": "code",
   "execution_count": 22,
   "metadata": {},
   "outputs": [],
   "source": [
    "# Get the best estimator after GridSearchCV\n",
    "best_rf_pca = grid_search.best_estimator_"
   ]
  },
  {
   "cell_type": "code",
   "execution_count": 23,
   "metadata": {},
   "outputs": [],
   "source": [
    "# Evaluate the model on the test set\n",
    "y_pred_pca = best_rf_pca.predict(X_test_pca)\n",
    "\n"
   ]
  },
  {
   "cell_type": "code",
   "execution_count": 24,
   "metadata": {},
   "outputs": [
    {
     "name": "stdout",
     "output_type": "stream",
     "text": [
      "Classification Report:\n",
      "               precision    recall  f1-score   support\n",
      "\n",
      "           1       0.37      0.59      0.46       583\n",
      "           2       0.81      0.68      0.74      3832\n",
      "           3       0.43      0.55      0.48      1056\n",
      "\n",
      "    accuracy                           0.65      5471\n",
      "   macro avg       0.54      0.61      0.56      5471\n",
      "weighted avg       0.69      0.65      0.66      5471\n",
      "\n",
      "\n",
      "Balanced Accuracy: 0.61\n"
     ]
    }
   ],
   "source": [
    "# Generate the classification report\n",
    "class_report_pca = classification_report(y_test_pca, y_pred_pca)\n",
    "print(\"Classification Report:\\n\", class_report_pca)\n",
    "\n",
    "# Calculate and print the balanced accuracy score\n",
    "balanced_acc_pca = balanced_accuracy_score(y_test_pca, y_pred_pca)\n",
    "print(f\"\\nBalanced Accuracy: {balanced_acc_pca:.2f}\")"
   ]
  },
  {
   "cell_type": "markdown",
   "metadata": {},
   "source": [
    "### **INTERPRETATION:**\n",
    "\n",
    "- **Balanced Accuracy** and **Accuracy**: \n",
    "\n",
    "    - This PCA applied Random Forest Classifier model performs slightly worse than the previous model (61% vs 62% for the balanced accurancy score). \n",
    "    - This performs above average, with **65%** of the predictions made by the model are correct. \n",
    "\n",
    "- **Precision, Recall, and F1-score (ie. the harmonic mean of precision and recall):** \n",
    "    \n",
    "\n",
    "    - **Precision scores**: \n",
    "    \n",
    "    - Overall the new model performs better than the 2nd model (currently the optimal model) and 1st model. Comparing it to the 2nd model:\n",
    "\n",
    "            - 3% improvement for Delay Type 1 (37% vs 34%) \n",
    "            - 2% worse for Delay Type 2 (81% vs 83%)\n",
    "            - 1% better for Delay Type 3 (43% vs 42%)\n",
    "\n",
    "        \n",
    "        - Good score for the majority class (Delay Type 2 - normal delay) at 81%, meaning there are very few false positive for the normal delay class. \n",
    "        - Poor score (many false positives) for the minority classes (Delay Type 1 and 3, at 37% and 43% respectively)\n",
    "\n",
    "\n",
    "    - **Recall scores**: \n",
    "    \n",
    "        - Overall the new model performs worse than the 2nd model (currently the optimal model) and 1st model:\n",
    "\n",
    "            - 4% worse for Delay Type 1 (59% vs 63%) \n",
    "            - 6% improvement for Delay Type 2 (68% vs 62%)\n",
    "            - 6% worse for Delay Type 3 (55% vs 61%)\n",
    "        \n",
    "        - There are many missed true positive cases, and it performs slightly above average.  \n",
    "\n",
    "       \n",
    "    - **F1 scores**: \n",
    "        \n",
    "        - Overall the new model performs better than the 2nd model:\n",
    "\n",
    "            - 2% improvement for Delay Type 1 (46% vs 44%) \n",
    "            - 3% improvement for Delay Type 2 (74% vs 71%)\n",
    "            - 1% worse for Delay Type 3 (48% vs 49%)\n",
    "        \n",
    "        - This means that the model is slightly more effective at correctly identifying positive instances while minimizing false positives for the minority classes compared to the 2nd model. \n",
    "\n",
    "\n",
    "### **CONCLUSION:**\n",
    "\n",
    "- Applying PCA on a reduced dataset overall improves performance across scoring metrics, except for the recall scores where the 2nd model performs better. \n",
    "- This 3rd model performs very well at 'precision score' for the majority class (81% for Delay Type 2 - normal delays), meaning there are very few false positives for normal delay type. \n",
    "- The new model performs above average for identifying true positive cases for the majority class (Delay Type 2 at 68%) but performs averagely for the minority classes (Delay Types 1 and 2, at 59% and 55% respectively).\n",
    "- This 3rd model performs acceptably at 'F1 score' for the majority class (74% for Delay Type 2 - normal delay type), meaning it performs acceptably at identifying positive instancees while minimizing false positives for this class. \n",
    "- So far this 3rd model is the optimal model.\n"
   ]
  },
  {
   "cell_type": "code",
   "execution_count": 26,
   "metadata": {},
   "outputs": [
    {
     "data": {
      "text/plain": [
       "['PCA_RF.pkl']"
      ]
     },
     "execution_count": 26,
     "metadata": {},
     "output_type": "execute_result"
    }
   ],
   "source": [
    "# Save the trained model to a pkl file in 'data' folder\n",
    "relative_path = os.path.join(\"PCA_RF.pkl\")\n",
    "joblib.dump(best_rf_pca, relative_path) "
   ]
  },
  {
   "cell_type": "markdown",
   "metadata": {},
   "source": [
    "---\n",
    "---"
   ]
  }
 ],
 "metadata": {
  "kernelspec": {
   "display_name": "DSI_participant",
   "language": "python",
   "name": "python3"
  },
  "language_info": {
   "codemirror_mode": {
    "name": "ipython",
    "version": 3
   },
   "file_extension": ".py",
   "mimetype": "text/x-python",
   "name": "python",
   "nbconvert_exporter": "python",
   "pygments_lexer": "ipython3",
   "version": "3.9.15"
  }
 },
 "nbformat": 4,
 "nbformat_minor": 2
}
